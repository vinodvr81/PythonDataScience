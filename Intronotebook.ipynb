{
 "cells": [
  {
   "cell_type": "code",
   "execution_count": 1,
   "metadata": {},
   "outputs": [
    {
     "name": "stdout",
     "output_type": "stream",
     "text": [
      "Hello World\n"
     ]
    }
   ],
   "source": [
    "print(\"Hello World\")"
   ]
  },
  {
   "cell_type": "code",
   "execution_count": 2,
   "metadata": {},
   "outputs": [
    {
     "data": {
      "text/plain": [
       "False"
      ]
     },
     "execution_count": 2,
     "metadata": {},
     "output_type": "execute_result"
    }
   ],
   "source": [
    "'Hello' in _"
   ]
  },
  {
   "cell_type": "code",
   "execution_count": 1,
   "metadata": {},
   "outputs": [
    {
     "data": {
      "text/plain": [
       "True"
      ]
     },
     "execution_count": 1,
     "metadata": {},
     "output_type": "execute_result"
    }
   ],
   "source": [
    "'Hello' in \"Hello World\"\n"
   ]
  },
  {
   "cell_type": "code",
   "execution_count": 4,
   "metadata": {},
   "outputs": [
    {
     "data": {
      "text/plain": [
       "864"
      ]
     },
     "execution_count": 4,
     "metadata": {},
     "output_type": "execute_result"
    }
   ],
   "source": [
    "36*24"
   ]
  },
  {
   "cell_type": "code",
   "execution_count": 2,
   "metadata": {},
   "outputs": [
    {
     "data": {
      "text/plain": [
       "0.3333333333333333"
      ]
     },
     "execution_count": 2,
     "metadata": {},
     "output_type": "execute_result"
    }
   ],
   "source": [
    "_/3"
   ]
  },
  {
   "cell_type": "code",
   "execution_count": 6,
   "metadata": {},
   "outputs": [
    {
     "data": {
      "text/plain": [
       "288.0"
      ]
     },
     "execution_count": 6,
     "metadata": {},
     "output_type": "execute_result"
    }
   ],
   "source": [
    "_/3\n"
   ]
  },
  {
   "cell_type": "markdown",
   "metadata": {},
   "source": [
    "## Hello Vinod!"
   ]
  },
  {
   "cell_type": "code",
   "execution_count": 1,
   "metadata": {
    "collapsed": true
   },
   "outputs": [
    {
     "name": "stdout",
     "output_type": "stream",
     "text": [
      "Hello Vinod\n"
     ]
    }
   ],
   "source": [
    "print(\"Hello Vinod\")"
   ]
  },
  {
   "cell_type": "code",
   "execution_count": 3,
   "metadata": {},
   "outputs": [
    {
     "data": {
      "text/plain": [
       "[<matplotlib.lines.Line2D at 0x172787df4e0>]"
      ]
     },
     "execution_count": 3,
     "metadata": {},
     "output_type": "execute_result"
    },
    {
     "data": {
      "image/png": "[encoded data removed]",
      "text/plain": [
       "<Figure size 432x288 with 1 Axes>"
      ]
     },
     "metadata": {},
     "output_type": "display_data"
    }
   ],
   "source": [
    "from matplotlib.pyplot import plot\n",
    "\n",
    "plot([0,1,0,1])\n",
    "\n"
   ]
  },
  {
   "cell_type": "code",
   "execution_count": 3,
   "metadata": {},
   "outputs": [
    {
     "name": "stdout",
     "output_type": "stream",
     "text": [
      "[[11 12 13 14]\n",
      " [21 22 23 24]\n",
      " [31 32 33 34]]\n"
     ]
    }
   ],
   "source": [
    "import numpy as np\n",
    "array1 = np.array([[11,12,13,14],[21,22,23,24],[31,32,33,34]])\n",
    "print(array1)"
   ]
  },
  {
   "cell_type": "code",
   "execution_count": 4,
   "metadata": {},
   "outputs": [
    {
     "name": "stdout",
     "output_type": "stream",
     "text": [
      "[[12 13]\n",
      " [22 23]]\n"
     ]
    }
   ],
   "source": [
    "array_slice1 = np.array(array1[:2,1:3])\n",
    "print(array_slice1)"
   ]
  },
  {
   "cell_type": "code",
   "execution_count": 5,
   "metadata": {},
   "outputs": [
    {
     "data": {
      "text/plain": [
       "array([[11, 12, 13, 14],\n",
       "       [21, 22, 23, 24]])"
      ]
     },
     "execution_count": 5,
     "metadata": {},
     "output_type": "execute_result"
    }
   ],
   "source": [
    "array1[:2,]"
   ]
  },
  {
   "cell_type": "code",
   "execution_count": 6,
   "metadata": {},
   "outputs": [
    {
     "name": "stdout",
     "output_type": "stream",
     "text": [
      "[[1 1]\n",
      " [1 1]]\n",
      "[[1 1]\n",
      " [1 1]]\n"
     ]
    }
   ],
   "source": [
    "a = np.array([[0,0],[0,0]])\n",
    "b1 = np.array([1,1])\n",
    "b2 = 1\n",
    "print(a+b1)\n",
    "print(a+b2)"
   ]
  },
  {
   "cell_type": "markdown",
   "metadata": {},
   "source": [
    "**word**"
   ]
  },
  {
   "cell_type": "markdown",
   "metadata": {},
   "source": [
    "*word*"
   ]
  },
  {
   "cell_type": "code",
   "execution_count": 26,
   "metadata": {},
   "outputs": [],
   "source": [
    "v = np.ndarray([1,2,3])"
   ]
  },
  {
   "cell_type": "code",
   "execution_count": 27,
   "metadata": {},
   "outputs": [
    {
     "data": {
      "text/plain": [
       "(1, 2, 3)"
      ]
     },
     "execution_count": 27,
     "metadata": {},
     "output_type": "execute_result"
    }
   ],
   "source": [
    "v.shape"
   ]
  },
  {
   "cell_type": "code",
   "execution_count": 24,
   "metadata": {},
   "outputs": [
    {
     "name": "stdout",
     "output_type": "stream",
     "text": [
      "[1 2 3 4 5]\n"
     ]
    }
   ],
   "source": [
    "arr = np.array([1,2,3,4,5])\n",
    "print(arr)"
   ]
  },
  {
   "cell_type": "code",
   "execution_count": 25,
   "metadata": {},
   "outputs": [
    {
     "name": "stdout",
     "output_type": "stream",
     "text": [
      "[1 2 3 4 7]\n"
     ]
    }
   ],
   "source": [
    "arr[4]=7\n",
    "print(arr)"
   ]
  },
  {
   "cell_type": "code",
   "execution_count": 22,
   "metadata": {},
   "outputs": [
    {
     "data": {
      "text/plain": [
       "(5,)"
      ]
     },
     "execution_count": 22,
     "metadata": {},
     "output_type": "execute_result"
    }
   ],
   "source": [
    "arr.shape"
   ]
  },
  {
   "cell_type": "code",
   "execution_count": 29,
   "metadata": {},
   "outputs": [
    {
     "name": "stdout",
     "output_type": "stream",
     "text": [
      "[[1 2 3]\n",
      " [4 5 6]\n",
      " [7 8 9]]\n",
      "[[2 3]\n",
      " [5 6]]\n"
     ]
    },
    {
     "data": {
      "text/plain": [
       "2"
      ]
     },
     "execution_count": 29,
     "metadata": {},
     "output_type": "execute_result"
    }
   ],
   "source": [
    "arr = np.array([[1,2,3],[4,5,6],[7,8,9]])\n",
    "print(arr)\n",
    "slice = arr[:2,1:3]\n",
    "print(slice)\n",
    "slice[0,0]"
   ]
  },
  {
   "cell_type": "code",
   "execution_count": 30,
   "metadata": {},
   "outputs": [
    {
     "name": "stdout",
     "output_type": "stream",
     "text": [
      "['cat']\n"
     ]
    }
   ],
   "source": [
    "a=np.array([\"cat\",\"dog\",\"fish\"])\n",
    "b=np.array([\"dog\",\"fish\",\"rabbit\"])\n",
    "print(np.setdiff1d(a,b))"
   ]
  },
  {
   "cell_type": "code",
   "execution_count": 31,
   "metadata": {},
   "outputs": [
    {
     "data": {
      "text/plain": [
       "array([[2, 3],\n",
       "       [5, 6]])"
      ]
     },
     "execution_count": 31,
     "metadata": {},
     "output_type": "execute_result"
    }
   ],
   "source": [
    "A = np.array([[1],[2]])\n",
    "B = np.array([[1,2],[3,4]])\n",
    "A + B"
   ]
  },
  {
   "cell_type": "code",
   "execution_count": 32,
   "metadata": {},
   "outputs": [
    {
     "name": "stdout",
     "output_type": "stream",
     "text": [
      "[3 4]\n",
      "[3 4]\n"
     ]
    }
   ],
   "source": [
    "a = np.array([2, 3])\n",
    "b1 = np.array([1])\n",
    "b2 = 1\n",
    "\n",
    "print(a+b1)\n",
    "print(a+b2)"
   ]
  },
  {
   "cell_type": "code",
   "execution_count": 5,
   "metadata": {},
   "outputs": [],
   "source": [
    "import pandas as pd"
   ]
  },
  {
   "cell_type": "code",
   "execution_count": 23,
   "metadata": {},
   "outputs": [
    {
     "name": "stdout",
     "output_type": "stream",
     "text": [
      "Vinod     100\n",
      "Nevaan    200\n",
      "Laksmi    300\n",
      "Sunil     400\n",
      "Anil      500\n",
      "dtype: int64\n"
     ]
    }
   ],
   "source": [
    "ser = pd.Series([100,200,300,400,500],['Vinod','Nevaan','Laksmi','Sunil','Anil'])\n",
    "print(ser)"
   ]
  },
  {
   "cell_type": "code",
   "execution_count": 26,
   "metadata": {},
   "outputs": [
    {
     "data": {
      "text/plain": [
       "Vinod     100\n",
       "Nevaan    200\n",
       "dtype: int64"
      ]
     },
     "execution_count": 26,
     "metadata": {},
     "output_type": "execute_result"
    }
   ],
   "source": [
    "ser.index\n",
    "ser.loc[['Vinod','Nevaan']]"
   ]
  },
  {
   "cell_type": "raw",
   "metadata": {},
   "source": [
    "ser.iloc"
   ]
  },
  {
   "cell_type": "code",
   "execution_count": 36,
   "metadata": {},
   "outputs": [
    {
     "data": {
      "text/plain": [
       "<pandas.core.indexing._iLocIndexer at 0x206dba78408>"
      ]
     },
     "execution_count": 36,
     "metadata": {},
     "output_type": "execute_result"
    }
   ],
   "source": [
    "ser.iloc"
   ]
  },
  {
   "cell_type": "code",
   "execution_count": 39,
   "metadata": {},
   "outputs": [],
   "source": [
    "d = {'One':pd.Series(['Andhra','Tamil Nadu','Telangana','Karnataka'],index=['Amaravathi','Chennai','Hyderabad','Bengaluru']),'Two':pd.Series(['India','China','USA','France','UK'],index=['Delhi','Beijing','Washington DC','Paris','London'])}"
   ]
  },
  {
   "cell_type": "code",
   "execution_count": 40,
   "metadata": {},
   "outputs": [
    {
     "data": {
      "text/html": [
       "<div>\n",
       "<style scoped>\n",
       "    .dataframe tbody tr th:only-of-type {\n",
       "        vertical-align: middle;\n",
       "    }\n",
       "\n",
       "    .dataframe tbody tr th {\n",
       "        vertical-align: top;\n",
       "    }\n",
       "\n",
       "    .dataframe thead th {\n",
       "        text-align: right;\n",
       "    }\n",
       "</style>\n",
       "<table border=\"1\" class=\"dataframe\">\n",
       "  <thead>\n",
       "    <tr style=\"text-align: right;\">\n",
       "      <th></th>\n",
       "      <th>One</th>\n",
       "      <th>Two</th>\n",
       "    </tr>\n",
       "  </thead>\n",
       "  <tbody>\n",
       "    <tr>\n",
       "      <th>Amaravathi</th>\n",
       "      <td>Andhra</td>\n",
       "      <td>NaN</td>\n",
       "    </tr>\n",
       "    <tr>\n",
       "      <th>Beijing</th>\n",
       "      <td>NaN</td>\n",
       "      <td>China</td>\n",
       "    </tr>\n",
       "    <tr>\n",
       "      <th>Bengaluru</th>\n",
       "      <td>Karnataka</td>\n",
       "      <td>NaN</td>\n",
       "    </tr>\n",
       "    <tr>\n",
       "      <th>Chennai</th>\n",
       "      <td>Tamil Nadu</td>\n",
       "      <td>NaN</td>\n",
       "    </tr>\n",
       "    <tr>\n",
       "      <th>Delhi</th>\n",
       "      <td>NaN</td>\n",
       "      <td>India</td>\n",
       "    </tr>\n",
       "    <tr>\n",
       "      <th>Hyderabad</th>\n",
       "      <td>Telangana</td>\n",
       "      <td>NaN</td>\n",
       "    </tr>\n",
       "    <tr>\n",
       "      <th>London</th>\n",
       "      <td>NaN</td>\n",
       "      <td>UK</td>\n",
       "    </tr>\n",
       "    <tr>\n",
       "      <th>Paris</th>\n",
       "      <td>NaN</td>\n",
       "      <td>France</td>\n",
       "    </tr>\n",
       "    <tr>\n",
       "      <th>Washington DC</th>\n",
       "      <td>NaN</td>\n",
       "      <td>USA</td>\n",
       "    </tr>\n",
       "  </tbody>\n",
       "</table>\n",
       "</div>"
      ],
      "text/plain": [
       "                      One     Two\n",
       "Amaravathi         Andhra     NaN\n",
       "Beijing               NaN   China\n",
       "Bengaluru       Karnataka     NaN\n",
       "Chennai        Tamil Nadu     NaN\n",
       "Delhi                 NaN   India\n",
       "Hyderabad       Telangana     NaN\n",
       "London                NaN      UK\n",
       "Paris                 NaN  France\n",
       "Washington DC         NaN     USA"
      ]
     },
     "execution_count": 40,
     "metadata": {},
     "output_type": "execute_result"
    }
   ],
   "source": [
    "df=pd.DataFrame(d)\n",
    "df"
   ]
  },
  {
   "cell_type": "code",
   "execution_count": 41,
   "metadata": {},
   "outputs": [
    {
     "data": {
      "text/plain": [
       "Index(['Amaravathi', 'Beijing', 'Bengaluru', 'Chennai', 'Delhi', 'Hyderabad',\n",
       "       'London', 'Paris', 'Washington DC'],\n",
       "      dtype='object')"
      ]
     },
     "execution_count": 41,
     "metadata": {},
     "output_type": "execute_result"
    }
   ],
   "source": [
    "df.index\n"
   ]
  },
  {
   "cell_type": "code",
   "execution_count": 42,
   "metadata": {},
   "outputs": [
    {
     "data": {
      "text/plain": [
       "Index(['One', 'Two'], dtype='object')"
      ]
     },
     "execution_count": 42,
     "metadata": {},
     "output_type": "execute_result"
    }
   ],
   "source": [
    "df.columns"
   ]
  },
  {
   "cell_type": "code",
   "execution_count": 64,
   "metadata": {},
   "outputs": [
    {
     "data": {
      "text/html": [
       "<div>\n",
       "<style scoped>\n",
       "    .dataframe tbody tr th:only-of-type {\n",
       "        vertical-align: middle;\n",
       "    }\n",
       "\n",
       "    .dataframe tbody tr th {\n",
       "        vertical-align: top;\n",
       "    }\n",
       "\n",
       "    .dataframe thead th {\n",
       "        text-align: right;\n",
       "    }\n",
       "</style>\n",
       "<table border=\"1\" class=\"dataframe\">\n",
       "  <thead>\n",
       "    <tr style=\"text-align: right;\">\n",
       "      <th></th>\n",
       "      <th>Lakshmi</th>\n",
       "      <th>Nevaan</th>\n",
       "      <th>Varun</th>\n",
       "      <th>Vinod</th>\n",
       "      <th>Vishnu</th>\n",
       "    </tr>\n",
       "  </thead>\n",
       "  <tbody>\n",
       "    <tr>\n",
       "      <th>Orange</th>\n",
       "      <td>NaN</td>\n",
       "      <td>NaN</td>\n",
       "      <td>NaN</td>\n",
       "      <td>NaN</td>\n",
       "      <td>NaN</td>\n",
       "    </tr>\n",
       "    <tr>\n",
       "      <th>Blue</th>\n",
       "      <td>NaN</td>\n",
       "      <td>NaN</td>\n",
       "      <td>NaN</td>\n",
       "      <td>NaN</td>\n",
       "      <td>NaN</td>\n",
       "    </tr>\n",
       "  </tbody>\n",
       "</table>\n",
       "</div>"
      ],
      "text/plain": [
       "        Lakshmi  Nevaan  Varun  Vinod  Vishnu\n",
       "Orange      NaN     NaN    NaN    NaN     NaN\n",
       "Blue        NaN     NaN    NaN    NaN     NaN"
      ]
     },
     "execution_count": 64,
     "metadata": {},
     "output_type": "execute_result"
    }
   ],
   "source": [
    "dfd = [{'Vinod':37,'Lakshmi':36},{'Nevaan':2,'Varun':12,'Vishnu':40}]\n",
    "dff=pd.DataFrame(dfd)\n",
    "pd.DataFrame(dff,index=['Orange','Blue'])"
   ]
  },
  {
   "cell_type": "code",
   "execution_count": 65,
   "metadata": {},
   "outputs": [
    {
     "data": {
      "text/plain": [
       "Lakshmi    True\n",
       "Nevaan     True\n",
       "Varun      True\n",
       "Vinod      True\n",
       "Vishnu     True\n",
       "dtype: bool"
      ]
     },
     "execution_count": 65,
     "metadata": {},
     "output_type": "execute_result"
    }
   ],
   "source": [
    "dff.isnull().any()"
   ]
  },
  {
   "cell_type": "markdown",
   "metadata": {},
   "source": [
    "**FILTERING ROWS**"
   ]
  },
  {
   "cell_type": "code",
   "execution_count": 36,
   "metadata": {},
   "outputs": [
    {
     "data": {
      "text/html": [
       "<div>\n",
       "<style scoped>\n",
       "    .dataframe tbody tr th:only-of-type {\n",
       "        vertical-align: middle;\n",
       "    }\n",
       "\n",
       "    .dataframe tbody tr th {\n",
       "        vertical-align: top;\n",
       "    }\n",
       "\n",
       "    .dataframe thead th {\n",
       "        text-align: right;\n",
       "    }\n",
       "</style>\n",
       "<table border=\"1\" class=\"dataframe\">\n",
       "  <thead>\n",
       "    <tr style=\"text-align: right;\">\n",
       "      <th></th>\n",
       "      <th>id;name;companyId</th>\n",
       "    </tr>\n",
       "  </thead>\n",
       "  <tbody>\n",
       "    <tr>\n",
       "      <th>0</th>\n",
       "      <td>1;Pavel;10</td>\n",
       "    </tr>\n",
       "    <tr>\n",
       "      <th>1</th>\n",
       "      <td>2;Petr;30</td>\n",
       "    </tr>\n",
       "    <tr>\n",
       "      <th>2</th>\n",
       "      <td>3;Kamil;50</td>\n",
       "    </tr>\n",
       "  </tbody>\n",
       "</table>\n",
       "</div>"
      ],
      "text/plain": [
       "  id;name;companyId\n",
       "0        1;Pavel;10\n",
       "1         2;Petr;30\n",
       "2        3;Kamil;50"
      ]
     },
     "execution_count": 36,
     "metadata": {},
     "output_type": "execute_result"
    }
   ],
   "source": [
    "demp = pd.read_csv('C:\\\\Users\\\\user\\\\PythonDataScience\\\\employee.csv')\n",
    "demp"
   ]
  },
  {
   "cell_type": "code",
   "execution_count": 16,
   "metadata": {},
   "outputs": [
    {
     "data": {
      "text/plain": [
       "(3, 1)"
      ]
     },
     "execution_count": 16,
     "metadata": {},
     "output_type": "execute_result"
    }
   ],
   "source": [
    "demp.shape"
   ]
  },
  {
   "cell_type": "code",
   "execution_count": 38,
   "metadata": {},
   "outputs": [
    {
     "data": {
      "text/html": [
       "<div>\n",
       "<style scoped>\n",
       "    .dataframe tbody tr th:only-of-type {\n",
       "        vertical-align: middle;\n",
       "    }\n",
       "\n",
       "    .dataframe tbody tr th {\n",
       "        vertical-align: top;\n",
       "    }\n",
       "\n",
       "    .dataframe thead th {\n",
       "        text-align: right;\n",
       "    }\n",
       "</style>\n",
       "<table border=\"1\" class=\"dataframe\">\n",
       "  <thead>\n",
       "    <tr style=\"text-align: right;\">\n",
       "      <th></th>\n",
       "      <th>id;name;companyId</th>\n",
       "    </tr>\n",
       "  </thead>\n",
       "  <tbody>\n",
       "    <tr>\n",
       "      <th>0</th>\n",
       "      <td>[1, Pavel, 10]</td>\n",
       "    </tr>\n",
       "    <tr>\n",
       "      <th>1</th>\n",
       "      <td>[2, Petr, 30]</td>\n",
       "    </tr>\n",
       "    <tr>\n",
       "      <th>2</th>\n",
       "      <td>[3, Kamil, 50]</td>\n",
       "    </tr>\n",
       "  </tbody>\n",
       "</table>\n",
       "</div>"
      ],
      "text/plain": [
       "  id;name;companyId\n",
       "0    [1, Pavel, 10]\n",
       "1     [2, Petr, 30]\n",
       "2    [3, Kamil, 50]"
      ]
     },
     "execution_count": 38,
     "metadata": {},
     "output_type": "execute_result"
    }
   ],
   "source": [
    "dempnew=pd.DataFrame(demp['id;name;companyId'].str.split(';'))\n",
    "dempnew.shape\n",
    "dempnew"
   ]
  },
  {
   "cell_type": "code",
   "execution_count": 69,
   "metadata": {},
   "outputs": [
    {
     "data": {
      "text/plain": [
       "id, name, companyId    False\n",
       "dtype: bool"
      ]
     },
     "execution_count": 69,
     "metadata": {},
     "output_type": "execute_result"
    }
   ],
   "source": [
    "dempnew.isnull().any()"
   ]
  },
  {
   "cell_type": "code",
   "execution_count": 70,
   "metadata": {},
   "outputs": [],
   "source": [
    "dempnew.columns = ['id, name, companyId']"
   ]
  },
  {
   "cell_type": "code",
   "execution_count": 76,
   "metadata": {},
   "outputs": [
    {
     "data": {
      "text/html": [
       "<div>\n",
       "<style scoped>\n",
       "    .dataframe tbody tr th:only-of-type {\n",
       "        vertical-align: middle;\n",
       "    }\n",
       "\n",
       "    .dataframe tbody tr th {\n",
       "        vertical-align: top;\n",
       "    }\n",
       "\n",
       "    .dataframe thead th {\n",
       "        text-align: right;\n",
       "    }\n",
       "</style>\n",
       "<table border=\"1\" class=\"dataframe\">\n",
       "  <thead>\n",
       "    <tr style=\"text-align: right;\">\n",
       "      <th></th>\n",
       "      <th>id, name, companyId</th>\n",
       "    </tr>\n",
       "  </thead>\n",
       "  <tbody>\n",
       "    <tr>\n",
       "      <th>Mumbai East</th>\n",
       "      <td>[1, Pavel, 10]</td>\n",
       "    </tr>\n",
       "    <tr>\n",
       "      <th>Mumbai West</th>\n",
       "      <td>[2, Petr, 30]</td>\n",
       "    </tr>\n",
       "    <tr>\n",
       "      <th>Mumbai South</th>\n",
       "      <td>[3, Kamil, 50]</td>\n",
       "    </tr>\n",
       "  </tbody>\n",
       "</table>\n",
       "</div>"
      ],
      "text/plain": [
       "             id, name, companyId\n",
       "Mumbai East       [1, Pavel, 10]\n",
       "Mumbai West        [2, Petr, 30]\n",
       "Mumbai South      [3, Kamil, 50]"
      ]
     },
     "execution_count": 76,
     "metadata": {},
     "output_type": "execute_result"
    }
   ],
   "source": [
    "dempnew.groupby(['id, name, companyId'])\n",
    "dempnew"
   ]
  },
  {
   "cell_type": "code",
   "execution_count": 43,
   "metadata": {},
   "outputs": [],
   "source": [
    "dempnew.columns = ['[id  name companyId]']\n",
    "dempnew.index = ['Mumbai East', 'Mumbai West', 'Mumbai South']"
   ]
  },
  {
   "cell_type": "code",
   "execution_count": 35,
   "metadata": {},
   "outputs": [
    {
     "data": {
      "text/html": [
       "<div>\n",
       "<style scoped>\n",
       "    .dataframe tbody tr th:only-of-type {\n",
       "        vertical-align: middle;\n",
       "    }\n",
       "\n",
       "    .dataframe tbody tr th {\n",
       "        vertical-align: top;\n",
       "    }\n",
       "\n",
       "    .dataframe thead th {\n",
       "        text-align: right;\n",
       "    }\n",
       "</style>\n",
       "<table border=\"1\" class=\"dataframe\">\n",
       "  <thead>\n",
       "    <tr style=\"text-align: right;\">\n",
       "      <th></th>\n",
       "      <th>id, name, companyId</th>\n",
       "    </tr>\n",
       "  </thead>\n",
       "  <tbody>\n",
       "    <tr>\n",
       "      <th>0</th>\n",
       "      <td>[1, Pavel, 10]</td>\n",
       "    </tr>\n",
       "    <tr>\n",
       "      <th>1</th>\n",
       "      <td>[2, Petr, 30]</td>\n",
       "    </tr>\n",
       "    <tr>\n",
       "      <th>2</th>\n",
       "      <td>[3, Kamil, 50]</td>\n",
       "    </tr>\n",
       "  </tbody>\n",
       "</table>\n",
       "</div>"
      ],
      "text/plain": [
       "  id, name, companyId\n",
       "0      [1, Pavel, 10]\n",
       "1       [2, Petr, 30]\n",
       "2      [3, Kamil, 50]"
      ]
     },
     "execution_count": 35,
     "metadata": {},
     "output_type": "execute_result"
    }
   ],
   "source": [
    "dempnew"
   ]
  },
  {
   "cell_type": "code",
   "execution_count": 47,
   "metadata": {},
   "outputs": [
    {
     "name": "stdout",
     "output_type": "stream",
     "text": [
      "For this row \"Mumbai East\" the column data is \"[id  name companyId]    [1, Pavel, 10]\n",
      "Name: Mumbai East, dtype: object\" :\n",
      "For this row \"Mumbai West\" the column data is \"[id  name companyId]    [2, Petr, 30]\n",
      "Name: Mumbai West, dtype: object\" :\n",
      "For this row \"Mumbai South\" the column data is \"[id  name companyId]    [3, Kamil, 50]\n",
      "Name: Mumbai South, dtype: object\" :\n"
     ]
    }
   ],
   "source": [
    "for row,index in dempnew.iterrows():\n",
    "    print('For this row \"{0}\" the column data is \"{1}\" :'.format(row,index))"
   ]
  },
  {
   "cell_type": "code",
   "execution_count": 57,
   "metadata": {},
   "outputs": [
    {
     "name": "stdout",
     "output_type": "stream",
     "text": [
      " Volume in drive C is Acer\n",
      " Volume Serial Number is B2E3-B260\n",
      "\n",
      " Directory of C:\\Users\\user\n",
      "\n",
      "03-08-2018  16:59    <DIR>          .\n",
      "03-08-2018  16:59    <DIR>          ..\n",
      "01-06-2015  18:29             2,468  bytes 1555517028-5833188863_5833188864.dfast4\n",
      "01-06-2015  18:28             2,468  cdQnegqzXJVZHbenhNzpLZSAbicg1G9huwbhr3.dfast11\n",
      "01-06-2015  18:28             2,468  cdQnegqzXJVZHbenhNzpLZSAbicg1G9huwbhr3.dfast11.dfast12\n",
      "01-06-2015  18:28             2,468  cdQnegqzXJVZHbenhNzpLZSAbicg1G9huwbhr3.dfast11.dfast5\n",
      "01-06-2015  18:22             2,468  Z5FRKlVm8D88otiD28rPbvEj9ueVfdkkLbdMQR.dfast10\n",
      "01-06-2015  18:22             2,468  Z5FRKlVm8D88otiD28rPbvEj9ueVfdkkLbdMQR.dfast12\n",
      "01-06-2015  18:22             2,469  Z5FRKlVm8D88otiD28rPbvEj9ueVfdkkLbdMQR.dfast13\n",
      "01-06-2015  18:22             2,469  Z5FRKlVm8D88otiD28rPbvEj9ueVfdkkLbdMQR.dfast14\n",
      "01-06-2015  19:51           595,320  _5c778cd8660ec28fc4d4f6eaa1a6f8b5-795_.dfast.dfast0\n",
      "01-06-2015  18:33           582,388  _5c778cd8660ec28fc4d4f6eaa1a6f8b5-795_.dfast.dfast1\n",
      "01-06-2015  18:33            60,827  _5c778cd8660ec28fc4d4f6eaa1a6f8b5-795_.dfast.dfast10\n",
      "01-06-2015  18:33            62,844  _5c778cd8660ec28fc4d4f6eaa1a6f8b5-795_.dfast.dfast11\n",
      "01-06-2015  18:33            56,764  _5c778cd8660ec28fc4d4f6eaa1a6f8b5-795_.dfast.dfast12\n",
      "01-06-2015  18:33            57,796  _5c778cd8660ec28fc4d4f6eaa1a6f8b5-795_.dfast.dfast13\n",
      "01-06-2015  18:33            56,787  _5c778cd8660ec28fc4d4f6eaa1a6f8b5-795_.dfast.dfast14\n",
      "01-06-2015  18:33           362,064  _5c778cd8660ec28fc4d4f6eaa1a6f8b5-795_.dfast.dfast2\n",
      "01-06-2015  18:33           448,619  _5c778cd8660ec28fc4d4f6eaa1a6f8b5-795_.dfast.dfast3\n",
      "01-06-2015  18:33            56,764  _5c778cd8660ec28fc4d4f6eaa1a6f8b5-795_.dfast.dfast4\n",
      "01-06-2015  18:33            55,756  _5c778cd8660ec28fc4d4f6eaa1a6f8b5-795_.dfast.dfast5\n",
      "01-06-2015  18:33            54,296  _5c778cd8660ec28fc4d4f6eaa1a6f8b5-795_.dfast.dfast6\n",
      "01-06-2015  18:33            60,240  _5c778cd8660ec28fc4d4f6eaa1a6f8b5-795_.dfast.dfast7\n",
      "01-06-2015  18:33            54,852  _5c778cd8660ec28fc4d4f6eaa1a6f8b5-795_.dfast.dfast8\n",
      "01-06-2015  18:33            57,216  _5c778cd8660ec28fc4d4f6eaa1a6f8b5-795_.dfast.dfast9\n",
      "01-06-2015  18:29         4,733,345  _5c778cd8660ec28fc4d4f6eaa1a6f8b5-795_.dfast0\n",
      "01-06-2015  18:21             7,404  _5c778cd8660ec28fc4d4f6eaa1a6f8b5-795_.dfast10\n",
      "01-06-2015  18:21             4,936  _5c778cd8660ec28fc4d4f6eaa1a6f8b5-795_.dfast11\n",
      "01-06-2015  18:21             4,936  _5c778cd8660ec28fc4d4f6eaa1a6f8b5-795_.dfast12\n",
      "01-06-2015  18:21             2,469  _5c778cd8660ec28fc4d4f6eaa1a6f8b5-795_.dfast13\n",
      "01-06-2015  18:21             2,469  _5c778cd8660ec28fc4d4f6eaa1a6f8b5-795_.dfast14\n",
      "01-06-2015  18:21             4,936  _5c778cd8660ec28fc4d4f6eaa1a6f8b5-795_.dfast4\n",
      "01-06-2015  18:23             7,392  _5c778cd8660ec28fc4d4f6eaa1a6f8b5-795_.dfast5\n",
      "01-06-2015  18:21             4,936  _5c778cd8660ec28fc4d4f6eaa1a6f8b5-795_.dfast6\n",
      "01-06-2015  18:21             2,468  _5c778cd8660ec28fc4d4f6eaa1a6f8b5-795_.dfast7\n",
      "01-06-2015  18:21             2,468  _5c778cd8660ec28fc4d4f6eaa1a6f8b5-795_.dfast8\n",
      "01-06-2015  18:21             7,404  _5c778cd8660ec28fc4d4f6eaa1a6f8b5-795_.dfast9\n",
      "01-06-2015  19:51            50,385 -1.dfast0\n",
      "28-12-2015  09:43    <DIR>          .3gpplayer\n",
      "11-02-2018  23:55    <DIR>          .anaconda\n",
      "18-02-2018  00:44    <DIR>          .android\n",
      "03-11-2015  19:52    <DIR>          .AndroidStudio1.4\n",
      "13-08-2015  14:14               145 .appletviewer\n",
      "17-07-2018  12:36    <DIR>          .astropy\n",
      "19-07-2018  14:21    <DIR>          .atom\n",
      "19-07-2018  19:56                65 .bash_history\n",
      "20-05-2018  23:53    <DIR>          .bundle\n",
      "01-07-2013  20:05    <DIR>          .comsol\n",
      "07-03-2018  07:22    <DIR>          .conda\n",
      "02-08-2018  21:18                43 .condarc\n",
      "02-06-2018  06:15    <DIR>          .config\n",
      "12-06-2018  11:50               552 .dbshell\n",
      "07-06-2018  00:27               126 .defaults-0.1.0.ini\n",
      "01-06-2015  20:09        60,468,873 .dfast0\n",
      "01-06-2015  20:09        63,526,792 .dfast1\n",
      "01-06-2015  20:09        12,900,857 .dfast10\n",
      "01-06-2015  20:09        19,727,075 .dfast11\n",
      "01-06-2015  20:09        14,019,914 .dfast12\n",
      "01-06-2015  20:09        15,779,256 .dfast13\n",
      "01-06-2015  20:09        14,108,996 .dfast14\n",
      "01-06-2015  20:09        51,362,534 .dfast2\n",
      "01-06-2015  20:09        63,552,251 .dfast3\n",
      "01-06-2015  20:09        19,231,867 .dfast4\n",
      "01-06-2015  20:09        64,600,711 .dfast5\n",
      "01-06-2015  20:09        17,296,200 .dfast6\n",
      "01-06-2015  20:09        15,493,634 .dfast7\n",
      "01-06-2015  20:09        14,804,760 .dfast8\n",
      "01-06-2015  20:09        17,234,798 .dfast9\n",
      "12-12-2014  16:40               584 .drjava\n",
      "02-08-2018  17:12    <DIR>          .eclipse\n",
      "16-11-2015  15:34             2,507 .enstaller4rc\n",
      "29-08-2015  18:48    <DIR>          .Flvplayer\n",
      "30-06-2018  09:39               201 .gitconfig\n",
      "03-11-2015  20:53    <DIR>          .gradle\n",
      "01-10-2015  14:57    <DIR>          .Icecream Screen Recorder\n",
      "07-06-2018  07:19    <DIR>          .IdeaIC2018.1\n",
      "27-06-2016  14:41    <DIR>          .idlerc\n",
      "28-07-2018  19:42    <DIR>          .ipynb_checkpoints\n",
      "21-09-2015  12:47    <DIR>          .ipython\n",
      "20-07-2018  00:57    <DIR>          .junique\n",
      "04-03-2018  09:57    <DIR>          .jupyter\n",
      "17-07-2018  12:24    <DIR>          .liclipse\n",
      "27-11-2015  17:07    <DIR>          .m2\n",
      "12-02-2018  00:04    <DIR>          .matplotlib\n",
      "08-05-2018  06:50                 0 .mongorc.js\n",
      "13-11-2015  11:49    <DIR>          .nbi\n",
      "06-08-2015  14:32    <DIR>          .nuget\n",
      "13-11-2015  11:28    <DIR>          .oracle_jre_usage\n",
      "02-08-2018  17:56    <DIR>          .p2\n",
      "29-07-2015  12:43    <DIR>          .PyCharm40\n",
      "20-07-2018  00:52                25 .python_history\n",
      "25-03-2016  11:25    <DIR>          .scalaide\n",
      "25-05-2016  11:27                29 .scala_history\n",
      "01-07-2018  00:20    <DIR>          .soapuios\n",
      "03-08-2018  09:59    <DIR>          .spyder-py3\n",
      "20-05-2018  23:51    <DIR>          .ssh\n",
      "29-12-2015  13:12    <DIR>          .swt\n",
      "30-07-2018  23:57    <DIR>          .thonny\n",
      "01-06-2016  11:00    <DIR>          .tooling\n",
      "28-07-2018  09:40    <DIR>          .VirtualBox\n",
      "20-07-2018  02:12    <DIR>          .vscode\n",
      "01-06-2015  19:50            21,929 0.dfast1\n",
      "01-06-2015  19:50             2,468 0.dfast10\n",
      "01-06-2015  18:33             2,468 0.dfast11\n",
      "01-06-2015  19:50             2,468 0.dfast12\n",
      "01-06-2015  19:50            10,009 0.dfast2\n",
      "01-06-2015  19:50            26,548 0.dfast3\n",
      "01-06-2015  18:33             2,468 0.dfast4\n",
      "01-06-2015  18:33             2,468 0.dfast6\n",
      "01-06-2015  19:51            80,151 1.dfast0\n",
      "01-06-2015  18:29            46,298 1.dfast1\n",
      "01-06-2015  18:29             7,404 1.dfast10\n",
      "01-06-2015  18:29             3,476 1.dfast11\n",
      "01-06-2015  18:29             7,404 1.dfast12\n",
      "01-06-2015  18:33            10,327 1.dfast13\n",
      "01-06-2015  18:29             7,407 1.dfast14\n",
      "01-06-2015  18:29             6,398 1.dfast2\n",
      "01-06-2015  18:29            40,936 1.dfast3\n",
      "01-06-2015  18:29             7,404 1.dfast4\n",
      "01-06-2015  18:29             7,404 1.dfast5\n",
      "01-06-2015  18:29            12,476 1.dfast6\n",
      "01-06-2015  18:29             7,404 1.dfast7\n",
      "01-06-2015  18:29             7,404 1.dfast8\n",
      "01-06-2015  18:29             7,404 1.dfast9\n",
      "01-06-2015  19:51            27,318 1433163064.dfast0\n",
      "01-06-2015  18:31             2,468 1433163064.dfast10\n",
      "01-06-2015  18:31             2,469 1433163064.dfast14\n",
      "01-06-2015  19:51            51,399 15.dfast0\n",
      "01-06-2015  18:30            33,849 15.dfast1\n",
      "01-06-2015  18:30             2,468 15.dfast10\n",
      "01-06-2015  18:30             2,468 15.dfast11\n",
      "01-06-2015  18:30             2,468 15.dfast12\n",
      "01-06-2015  18:30             2,469 15.dfast13\n",
      "01-06-2015  18:30            55,269 15.dfast2\n",
      "01-06-2015  18:30             2,468 15.dfast4\n",
      "01-06-2015  18:30             2,468 15.dfast5\n",
      "01-06-2015  18:30             1,008 15.dfast6\n",
      "01-06-2015  18:30             2,468 15.dfast8\n",
      "01-06-2015  18:30             2,468 15.dfast9\n",
      "01-06-2015  18:32            24,849 2468.dfast1\n",
      "01-06-2015  18:32             2,468 2468.dfast10\n",
      "01-06-2015  18:32             2,468 2468.dfast11\n",
      "01-06-2015  18:33             4,938 2468.dfast14\n",
      "01-06-2015  18:33            24,396 2468.dfast3\n",
      "01-06-2015  18:31             2,468 2468.dfast5\n",
      "01-06-2015  18:31             2,468 2468.dfast6\n",
      "01-06-2015  18:33             2,468 2468.dfast7\n",
      "01-06-2015  18:32             2,468 2468.dfast8\n",
      "01-06-2015  18:32           137,050 388879257.dfast0\n",
      "01-06-2015  18:33            95,545 388879257.dfast1\n",
      "01-06-2015  18:33            14,808 388879257.dfast10\n",
      "01-06-2015  18:33            12,340 388879257.dfast11\n",
      "01-06-2015  18:33            12,340 388879257.dfast12\n",
      "01-06-2015  18:33            18,425 388879257.dfast13\n",
      "01-06-2015  18:33            12,345 388879257.dfast14\n",
      "01-06-2015  18:32            64,538 388879257.dfast2\n",
      "01-06-2015  18:32            65,996 388879257.dfast3\n",
      "01-06-2015  18:33             9,872 388879257.dfast4\n",
      "01-06-2015  18:33            12,340 388879257.dfast5\n",
      "01-06-2015  18:33            14,808 388879257.dfast6\n",
      "01-06-2015  18:33             9,872 388879257.dfast7\n",
      "01-06-2015  18:33             9,872 388879257.dfast8\n",
      "01-06-2015  18:33            12,340 388879257.dfast9\n",
      "01-06-2015  18:30             2,468 388879266.dfast10\n",
      "01-06-2015  18:30             2,468 388879266.dfast11\n",
      "01-06-2015  18:30             2,468 388879266.dfast12\n",
      "01-06-2015  18:30             2,469 388879266.dfast14\n",
      "01-06-2015  18:30            60,848 388879266.dfast3\n",
      "01-06-2015  18:30             2,468 388879266.dfast4\n",
      "01-06-2015  18:30             2,468 388879266.dfast6\n",
      "01-06-2015  18:30             2,468 388879266.dfast7\n",
      "01-06-2015  18:30             2,468 388879266.dfast8\n",
      "01-06-2015  18:30             2,468 388879266.dfast9\n",
      "11-07-2018  22:11    <DIR>          3D Objects\n",
      "01-06-2015  18:33           283,186 4.dfast0\n",
      "01-06-2015  18:33           448,617 4.dfast1\n",
      "01-06-2015  18:33            52,836 4.dfast10\n",
      "01-06-2015  18:33            49,360 4.dfast11\n",
      "01-06-2015  18:33            54,296 4.dfast12\n",
      "01-06-2015  18:33            55,778 4.dfast13\n",
      "01-06-2015  18:33            57,238 4.dfast14\n",
      "01-06-2015  18:33           645,868 4.dfast2\n",
      "01-06-2015  18:33           572,904 4.dfast3\n",
      "01-06-2015  18:33            52,836 4.dfast4\n",
      "01-06-2015  19:50            57,216 4.dfast5\n",
      "01-06-2015  18:33            68,367 4.dfast6\n",
      "01-06-2015  18:33            52,836 4.dfast7\n",
      "01-06-2015  18:33            54,296 4.dfast8\n",
      "01-06-2015  18:33            54,296 4.dfast9\n",
      "01-06-2015  18:23             2,456 41 GMT.dfast10\n",
      "01-06-2015  18:28             2,469 41 GMT.dfast13\n",
      "01-06-2015  18:28             4,924 41 GMT.dfast7\n",
      "01-06-2015  18:31             2,469 4936.dfast13\n",
      "01-06-2015  18:31             2,468 4936.dfast6\n",
      "01-06-2015  18:33             2,468 51849.dfast10\n",
      "01-06-2015  18:33             2,468 51849.dfast11\n",
      "01-06-2015  18:33             2,468 51849.dfast12\n",
      "01-06-2015  18:33             2,469 51849.dfast14\n",
      "01-06-2015  18:33            50,149 51849.dfast2\n",
      "01-06-2015  18:33            14,388 51849.dfast3\n",
      "01-06-2015  18:33             2,468 51849.dfast4\n",
      "01-06-2015  18:33             2,468 51849.dfast8\n",
      "01-06-2015  18:29         5,400,076 5833188.dfast6\n",
      "01-06-2015  18:28             2,468 5833188864.dfast10\n",
      "01-06-2015  18:28             2,468 5833188864.dfast11\n",
      "01-06-2015  18:28             2,468 5833188864.dfast12\n",
      "01-06-2015  18:28             2,469 5833188864.dfast14\n",
      "01-06-2015  18:28             2,468 5833188864.dfast5\n",
      "01-06-2015  18:28             2,468 5833188864.dfast8\n",
      "01-06-2015  18:33            20,477 8548.dfast0\n",
      "01-06-2015  18:32             2,469 8548.dfast13\n",
      "01-06-2015  18:32             2,468 8548.dfast5\n",
      "01-06-2015  18:33             2,468 8548.dfast6\n",
      "01-06-2015  18:32             2,468 8548.dfast7\n",
      "01-06-2015  18:32             2,468 8548.dfast9\n",
      "01-06-2015  18:30             2,469 91163.dfast14\n",
      "04-11-2014  10:39             1,194 AcroRd32.sln\n",
      "20-07-2018  00:07    <DIR>          adPosting\n",
      "30-06-2016  23:29             3,014 advanced_ip_scanner_MAC.bin\n",
      "20-07-2018  00:32    <DIR>          Anaconda3\n",
      "16-11-2015  14:17    <DIR>          android-sdks\n",
      "03-11-2015  20:52    <DIR>          AndroidStudioProjects\n",
      "10-07-2018  12:57            26,558 Assignment2.ipynb\n",
      "01-06-2015  18:28             2,468 bytes 5444309598-5833188863_5833188864.dfast4\n",
      "21-09-2015  12:47    <DIR>          Canopy\n",
      "01-06-2015  18:31             2,468 command.dfast11\n",
      "01-06-2015  18:31             2,468 command.dfast12\n",
      "01-06-2015  18:31             2,469 command.dfast13\n",
      "01-06-2015  18:31             2,468 command.dfast4\n",
      "01-06-2015  18:31             2,468 command.dfast7\n",
      "01-06-2015  18:31             2,468 command.dfast8\n",
      "01-06-2015  18:31             2,468 command.dfast9\n",
      "01-06-2015  18:33            33,410 command=.dfast0\n",
      "01-06-2015  18:31            33,849 command=.dfast1\n",
      "01-06-2015  18:31             2,468 command=.dfast11\n",
      "01-06-2015  18:31             2,468 command=.dfast12\n",
      "01-06-2015  18:33             4,938 command=.dfast13\n",
      "01-06-2015  18:31             1,009 command=.dfast14\n",
      "01-06-2015  18:31             2,468 command=.dfast4\n",
      "01-06-2015  18:31             2,468 command=.dfast5\n",
      "01-06-2015  18:31             2,468 command=.dfast6\n",
      "01-06-2015  18:31             2,468 command=.dfast7\n",
      "01-06-2015  18:31             2,468 command=.dfast8\n",
      "01-06-2015  18:31             2,468 command=.dfast9\n",
      "01-06-2015  19:50             1,009 comments.dfast14\n",
      "01-06-2015  19:50             2,468 comments.dfast5\n",
      "01-06-2015  19:50             2,468 comments.dfast9\n",
      "11-07-2018  22:11    <DIR>          Contacts\n",
      "03-06-2018  08:45    <DIR>          coursera-test-web-dev\n",
      "08-01-2014  15:49                 0 daemonprocess.txt\n",
      "01-06-2015  18:30            23,389 date_start.dfast1\n",
      "01-06-2015  18:30             2,468 date_start.dfast10\n",
      "01-06-2015  18:30             2,468 date_start.dfast11\n",
      "01-06-2015  18:30             2,468 date_start.dfast12\n",
      "01-06-2015  18:30             2,469 date_start.dfast13\n",
      "01-06-2015  18:30             2,469 date_start.dfast14\n",
      "01-06-2015  18:30            15,849 date_start.dfast2\n",
      "01-06-2015  18:30            74,228 date_start.dfast3\n",
      "01-06-2015  18:30             2,468 date_start.dfast4\n",
      "01-06-2015  18:30             2,468 date_start.dfast5\n",
      "01-06-2015  18:30             2,468 date_start.dfast6\n",
      "01-06-2015  18:30             2,468 date_start.dfast8\n",
      "01-06-2015  18:30             6,848 date_start.dfast9\n",
      "01-07-2018  00:11               254 default-soapui-workspace.xml\n",
      "26-07-2018  00:13    <DIR>          Desktop\n",
      "01-06-2015  18:35         1,393,199 destination=C___Users__user__Documents.dfast0\n",
      "01-06-2015  18:34           554,483 destination=C___Users__user__Documents.dfast1\n",
      "01-06-2015  18:34            49,947 destination=C___Users__user__Documents.dfast10\n",
      "01-06-2015  18:33            38,028 destination=C___Users__user__Documents.dfast11\n",
      "01-06-2015  18:34            41,956 destination=C___Users__user__Documents.dfast12\n",
      "01-06-2015  18:34            37,035 destination=C___Users__user__Documents.dfast13\n",
      "01-06-2015  18:34            33,106 destination=C___Users__user__Documents.dfast14\n",
      "01-06-2015  18:46        13,163,610 destination=C___Users__user__Documents.dfast2\n",
      "01-06-2015  18:35         1,486,436 destination=C___Users__user__Documents.dfast3\n",
      "01-06-2015  18:34            43,416 destination=C___Users__user__Documents.dfast4\n",
      "01-06-2015  18:34            41,956 destination=C___Users__user__Documents.dfast5\n",
      "01-06-2015  18:34            37,020 destination=C___Users__user__Documents.dfast6\n",
      "01-06-2015  18:34            39,488 destination=C___Users__user__Documents.dfast7\n",
      "01-06-2015  18:34            37,020 destination=C___Users__user__Documents.dfast8\n",
      "01-06-2015  18:34            32,084 destination=C___Users__user__Documents.dfast9\n",
      "01-08-2018  10:07    <DIR>          Documents\n",
      "01-06-2015  18:33             2,477 Documents.dfast0\n",
      "01-06-2015  18:33             5,389 Documents.dfast1\n",
      "01-06-2015  18:32            10,324 Documents.dfast10\n",
      "01-06-2015  18:34             9,872 Documents.dfast11\n",
      "01-06-2015  18:32             7,404 Documents.dfast12\n",
      "01-06-2015  18:33            12,345 Documents.dfast13\n",
      "01-06-2015  18:34            12,345 Documents.dfast14\n",
      "01-06-2015  18:32           105,389 Documents.dfast2\n",
      "01-06-2015  18:31            23,388 Documents.dfast3\n",
      "01-06-2015  18:34            12,340 Documents.dfast4\n",
      "01-06-2015  18:34             7,404 Documents.dfast5\n",
      "01-06-2015  18:34             7,404 Documents.dfast6\n",
      "01-06-2015  18:33             7,404 Documents.dfast7\n",
      "01-06-2015  18:33             9,872 Documents.dfast8\n",
      "01-06-2015  18:34            10,880 Documents.dfast9\n",
      "03-08-2018  16:52    <DIR>          Downloads\n",
      "05-06-2018  11:18    <DIR>          dump\n",
      "19-07-2018  00:14    <DIR>          eclipse\n",
      "02-08-2018  17:12    <DIR>          eclipse-workspace\n",
      "11-07-2018  22:11    <DIR>          Favorites\n",
      "10-09-2014  11:41             4,604 file.err\n",
      "10-09-2014  11:39                 0 file.lock\n",
      "10-09-2014  11:40             2,180 file.log\n",
      "07-02-2014  00:16             1,496 gsview32.ini\n",
      "28-06-2018  16:55    <DIR>          helloWorldPhy\n",
      "01-06-2015  18:22             2,468 hortonassets.s3.amazonaws.com.dfast11\n",
      "01-06-2015  18:22             2,468 hortonassets.s3.amazonaws.com.dfast4\n",
      "01-06-2015  18:23            91,256 hortonassets.s3.amazonaws.com.dfast5\n",
      "01-06-2015  18:33            10,017 http___hortonassets.s3.amazonaws.com.dfast0\n",
      "01-06-2015  18:33             8,549 http___hortonassets.s3.amazonaws.com.dfast1\n",
      "01-06-2015  18:33             2,468 http___hortonassets.s3.amazonaws.com.dfast10\n",
      "01-06-2015  18:33             2,468 http___hortonassets.s3.amazonaws.com.dfast11\n",
      "01-06-2015  18:33             2,469 http___hortonassets.s3.amazonaws.com.dfast13\n",
      "01-06-2015  18:33             2,469 http___hortonassets.s3.amazonaws.com.dfast14\n",
      "01-06-2015  19:50           115,129 http___hortonassets.s3.amazonaws.com.dfast2\n",
      "01-06-2015  18:33            35,548 http___hortonassets.s3.amazonaws.com.dfast3\n",
      "01-06-2015  18:33             2,468 http___hortonassets.s3.amazonaws.com.dfast4\n",
      "01-06-2015  18:33             2,468 http___hortonassets.s3.amazonaws.com.dfast5\n",
      "01-06-2015  18:33             2,468 http___hortonassets.s3.amazonaws.com.dfast6\n",
      "01-06-2015  18:33             2,468 http___hortonassets.s3.amazonaws.com.dfast7\n",
      "01-06-2015  18:33             2,468 http___hortonassets.s3.amazonaws.com.dfast8\n",
      "01-06-2015  18:33             2,468 http___hortonassets.s3.amazonaws.com.dfast9\n",
      "01-10-2015  14:58    <DIR>          Icecream Screen Capture\n",
      "28-06-2018  17:06    <DIR>          IdeaProjects\n",
      "03-08-2018  16:59            44,050 Intro notebook.ipynb\n",
      "20-11-2015  12:37    <DIR>          JavaProgramsVinod\n",
      "05-07-2013  04:52    <DIR>          KooBits4\n",
      "01-06-2015  18:23             2,456 Last-Modified_ Mon, 11 May 2015 09_04_41 GMT.dfast12\n",
      "01-06-2015  18:28             2,469 Last-Modified_ Mon, 11 May 2015 09_04_41 GMT.dfast13\n",
      "01-06-2015  18:23             2,457 Last-Modified_ Mon, 11 May 2015 09_04_41 GMT.dfast14\n",
      "01-06-2015  18:28             2,468 Last-Modified_ Mon, 11 May 2015 09_04_41 GMT.dfast4\n",
      "01-06-2015  18:23             2,456 Last-Modified_ Mon, 11 May 2015 09_04_41 GMT.dfast7\n",
      "11-07-2018  22:12    <DIR>          Links\n",
      "14-05-2018  08:07    <DIR>          M001\n",
      "07-01-2014  22:10    <DIR>          MediaEspresso\n",
      "10-09-2014  11:39                75 menust.tmp\n",
      "28-06-2018  23:49                76 mercurial.ini\n",
      "01-06-2015  18:33             2,469 metalinkindex].dfast14\n",
      "11-12-2013  12:13    <DIR>          Mobile Uploads\n",
      "11-07-2018  22:11    <DIR>          Music\n",
      "01-06-2015  18:35           662,869 name=name=Sandbox_HDP_2.2.4.2_VirtualBox.ova.dfast1\n",
      "01-06-2015  18:34            12,476 name=name=Sandbox_HDP_2.2.4.2_VirtualBox.ova.dfast10\n",
      "01-06-2015  18:34             4,936 name=name=Sandbox_HDP_2.2.4.2_VirtualBox.ova.dfast11\n",
      "01-06-2015  18:34             4,936 name=name=Sandbox_HDP_2.2.4.2_VirtualBox.ova.dfast12\n",
      "01-06-2015  18:34             4,938 name=name=Sandbox_HDP_2.2.4.2_VirtualBox.ova.dfast13\n",
      "01-06-2015  18:34             4,938 name=name=Sandbox_HDP_2.2.4.2_VirtualBox.ova.dfast14\n",
      "01-06-2015  18:34             2,468 name=name=Sandbox_HDP_2.2.4.2_VirtualBox.ova.dfast4\n",
      "01-06-2015  18:34             4,936 name=name=Sandbox_HDP_2.2.4.2_VirtualBox.ova.dfast5\n",
      "01-06-2015  18:34             4,936 name=name=Sandbox_HDP_2.2.4.2_VirtualBox.ova.dfast6\n",
      "01-06-2015  18:34             4,936 name=name=Sandbox_HDP_2.2.4.2_VirtualBox.ova.dfast7\n",
      "01-06-2015  18:34             4,936 name=name=Sandbox_HDP_2.2.4.2_VirtualBox.ova.dfast8\n",
      "01-06-2015  18:34             4,936 name=name=Sandbox_HDP_2.2.4.2_VirtualBox.ova.dfast9\n",
      "01-06-2015  18:29         3,329,838 name=Sandbox_HDP_2.2.4.2_VirtualBox.ova.dfast1\n",
      "01-06-2015  18:26            24,124 name=Sandbox_HDP_2.2.4.2_VirtualBox.ova.dfast10\n",
      "01-06-2015  18:26            21,204 name=Sandbox_HDP_2.2.4.2_VirtualBox.ova.dfast11\n",
      "01-06-2015  18:26            19,744 name=Sandbox_HDP_2.2.4.2_VirtualBox.ova.dfast12\n",
      "01-06-2015  18:26            19,752 name=Sandbox_HDP_2.2.4.2_VirtualBox.ova.dfast13\n",
      "01-06-2015  18:26            19,752 name=Sandbox_HDP_2.2.4.2_VirtualBox.ova.dfast14\n",
      "01-06-2015  18:27         1,103,048 name=Sandbox_HDP_2.2.4.2_VirtualBox.ova.dfast3\n",
      "01-06-2015  18:26            19,744 name=Sandbox_HDP_2.2.4.2_VirtualBox.ova.dfast4\n",
      "01-06-2015  18:26            19,744 name=Sandbox_HDP_2.2.4.2_VirtualBox.ova.dfast5\n",
      "01-06-2015  18:26            19,744 name=Sandbox_HDP_2.2.4.2_VirtualBox.ova.dfast7\n",
      "02-08-2018  14:43    <DIR>          notMyWork\n",
      "03-08-2015  00:35    <DIR>          OneDrive\n",
      "10-07-2018  18:57    <DIR>          pandasPrac\n",
      "01-06-2015  18:33            11,477 parts=15.dfast0\n",
      "01-06-2015  18:33             2,468 parts=15.dfast12\n",
      "01-06-2015  18:33            28,989 parts=15.dfast2\n",
      "01-06-2015  18:33             2,468 parts=15.dfast5\n",
      "01-06-2015  18:33             2,468 parts=15.dfast9\n",
      "23-06-2013  09:59    <DIR>          PicStream\n",
      "31-07-2018  17:21    <DIR>          Pictures\n",
      "07-09-2015  12:06    <DIR>          PycharmProjects\n",
      "03-08-2018  08:08    <DIR>          PythonDataScience\n",
      "19-07-2018  20:02    <DIR>          PythonDjangoWebApp\n",
      "01-06-2015  18:29             2,469 restart=0.dfast13\n",
      "01-06-2015  18:30           109,029 restart=0.dfast2\n",
      "01-06-2015  18:29             2,468 restart=0.dfast6\n",
      "01-06-2015  18:21             2,468 Sandbox_HDP_2.2.4.2_VirtualBox.ova .dfast10\n",
      "01-06-2015  18:21             2,468 Sandbox_HDP_2.2.4.2_VirtualBox.ova .dfast12\n",
      "01-06-2015  18:21             2,468 Sandbox_HDP_2.2.4.2_VirtualBox.ova .dfast4\n",
      "01-06-2015  18:21             2,468 Sandbox_HDP_2.2.4.2_VirtualBox.ova .dfast5\n",
      "01-06-2015  18:21             2,468 Sandbox_HDP_2.2.4.2_VirtualBox.ova .dfast9\n",
      "01-06-2015  18:22         2,032,602 Sandbox_HDP_2.2.4.2_VirtualBox.ova.dfast0\n",
      "01-06-2015  18:23         1,807,009 Sandbox_HDP_2.2.4.2_VirtualBox.ova.dfast1\n",
      "01-06-2015  18:29             4,936 Sandbox_HDP_2.2.4.2_VirtualBox.ova.dfast10\n",
      "01-06-2015  18:21             2,468 Sandbox_HDP_2.2.4.2_VirtualBox.ova.dfast11\n",
      "01-06-2015  18:23             4,924 Sandbox_HDP_2.2.4.2_VirtualBox.ova.dfast12\n",
      "01-06-2015  18:29             7,407 Sandbox_HDP_2.2.4.2_VirtualBox.ova.dfast13\n",
      "01-06-2015  18:29             4,938 Sandbox_HDP_2.2.4.2_VirtualBox.ova.dfast14\n",
      "01-06-2015  18:29         7,609,049 Sandbox_HDP_2.2.4.2_VirtualBox.ova.dfast2\n",
      "01-06-2015  18:25         3,950,548 Sandbox_HDP_2.2.4.2_VirtualBox.ova.dfast3\n",
      "01-06-2015  18:21             2,468 Sandbox_HDP_2.2.4.2_VirtualBox.ova.dfast4\n",
      "01-06-2015  18:21             2,468 Sandbox_HDP_2.2.4.2_VirtualBox.ova.dfast5\n",
      "01-06-2015  18:21             2,468 Sandbox_HDP_2.2.4.2_VirtualBox.ova.dfast6\n",
      "01-06-2015  18:29             9,872 Sandbox_HDP_2.2.4.2_VirtualBox.ova.dfast7\n",
      "01-06-2015  18:29             4,936 Sandbox_HDP_2.2.4.2_VirtualBox.ova.dfast8\n",
      "01-06-2015  18:21             2,468 Sandbox_HDP_2.2.4.2_VirtualBox.ova.dfast9\n",
      "11-07-2018  22:12    <DIR>          Saved Games\n",
      "25-03-2016  11:23    <DIR>          ScalaWorkspace\n",
      "11-07-2018  22:11    <DIR>          Searches\n",
      "10-09-2014  11:40               391 sim1-Solution_1.DO3\n",
      "10-09-2014  11:41       535,101,440 sim1-Solution_1.full\n",
      "10-09-2014  11:41       819,331,072 sim1-Solution_1.LN09\n",
      "10-09-2014  11:40                 0 sim1-Solution_1.LN11\n",
      "10-09-2014  11:40        71,890,664 sim1-Solution_1.LN20\n",
      "10-09-2014  11:40                 0 sim1-Solution_1.LN22\n",
      "10-09-2014  11:41        82,145,152 sim1-Solution_1.LN25\n",
      "10-09-2014  11:40                 0 sim1-Solution_1.LN31\n",
      "10-09-2014  11:40                 0 sim1-Solution_1.LN32\n",
      "10-09-2014  11:40               640 sim1-Solution_1.mntr\n",
      "10-09-2014  11:40                 0 sim1-Solution_1.rst\n",
      "10-09-2014  11:40           752,617 sim1-Solution_1.s01\n",
      "10-09-2014  11:40                 0 sim1-Solution_1.sda\n",
      "01-06-2015  18:30             2,469 sizepart10.dfast13\n",
      "01-06-2015  18:30             2,468 sizepart10.dfast5\n",
      "01-06-2015  18:30            33,857 sizepart11.dfast0\n",
      "01-06-2015  18:29             2,469 sizepart11.dfast14\n",
      "01-06-2015  18:29             2,468 sizepart11.dfast4\n",
      "01-06-2015  18:29             2,468 sizepart11.dfast5\n",
      "01-06-2015  18:29             2,468 sizepart11.dfast7\n",
      "01-06-2015  18:29             2,468 sizepart11.dfast8\n",
      "01-06-2015  18:33             2,468 sizepart12.dfast10\n",
      "01-06-2015  18:33             2,469 sizepart12.dfast13\n",
      "01-06-2015  18:33             2,468 sizepart12.dfast4\n",
      "01-06-2015  18:30            12,928 sizepart14.dfast3\n",
      "01-06-2015  18:30             2,468 sizepart14.dfast5\n",
      "01-06-2015  18:30             2,468 sizepart14.dfast7\n",
      "01-06-2015  18:31            47,477 sizepart3.dfast0\n",
      "01-06-2015  18:31             2,468 sizepart3.dfast10\n",
      "01-06-2015  18:33             4,936 sizepart3.dfast11\n",
      "01-06-2015  18:31             2,468 sizepart3.dfast12\n",
      "01-06-2015  18:31             2,469 sizepart3.dfast13\n",
      "01-06-2015  18:31             2,469 sizepart3.dfast14\n",
      "01-06-2015  18:31            10,009 sizepart3.dfast2\n",
      "01-06-2015  18:31             3,928 sizepart3.dfast3\n",
      "01-06-2015  18:31             2,468 sizepart3.dfast4\n",
      "01-06-2015  18:31             2,468 sizepart3.dfast5\n",
      "01-06-2015  18:31             2,468 sizepart3.dfast6\n",
      "01-06-2015  18:31             2,468 sizepart3.dfast7\n",
      "01-06-2015  18:31             2,468 sizepart3.dfast8\n",
      "01-06-2015  18:31             2,468 sizepart3.dfast9\n",
      "01-06-2015  18:33             2,468 sizepart5.dfast6\n",
      "01-06-2015  18:33             2,468 sizepart5.dfast8\n",
      "01-06-2015  18:32            50,397 sizepart8.dfast0\n",
      "01-06-2015  18:32            31,938 sizepart8.dfast1\n",
      "01-06-2015  18:32             4,936 sizepart8.dfast10\n",
      "01-06-2015  18:32             4,936 sizepart8.dfast11\n",
      "01-06-2015  18:32             7,404 sizepart8.dfast12\n",
      "01-06-2015  18:32             7,407 sizepart8.dfast13\n",
      "01-06-2015  18:32             4,938 sizepart8.dfast14\n",
      "01-06-2015  18:32            78,158 sizepart8.dfast2\n",
      "01-06-2015  18:32             8,548 sizepart8.dfast3\n",
      "01-06-2015  18:32             7,404 sizepart8.dfast4\n",
      "01-06-2015  18:32             5,944 sizepart8.dfast5\n",
      "01-06-2015  18:32             4,936 sizepart8.dfast6\n",
      "01-06-2015  18:32             7,404 sizepart8.dfast7\n",
      "01-06-2015  18:32             4,936 sizepart8.dfast8\n",
      "01-06-2015  18:32             7,404 sizepart8.dfast9\n",
      "19-07-2018  23:58    <DIR>          SkyDrive\n",
      "01-07-2018  00:11             2,209 soapui-settings.xml\n",
      "01-07-2018  00:27    <DIR>          SoapUI-Tutorials\n",
      "01-07-2018  00:11       140,658,728 SoapUI-x64-5.4.0.exe\n",
      "01-06-2015  18:31            51,849 speed=0.dfast1\n",
      "01-06-2015  18:31             2,468 speed=0.dfast10\n",
      "01-06-2015  18:31             2,468 speed=0.dfast11\n",
      "01-06-2015  18:31             2,468 speed=0.dfast12\n",
      "01-06-2015  18:31             2,469 speed=0.dfast14\n",
      "01-06-2015  18:31            15,848 speed=0.dfast3\n",
      "01-06-2015  18:31             2,468 speed=0.dfast4\n",
      "01-06-2015  18:31             2,468 speed=0.dfast7\n",
      "01-06-2015  18:31             2,468 speed=0.dfast8\n",
      "01-06-2015  18:31             2,468 speed=0.dfast9\n",
      "20-12-2015  09:42               731 Sti_Trace.log\n",
      "11-07-2018  11:26            13,783 tenminPandas.ipynb\n",
      "10-12-2015  21:08    <DIR>          Tracing\n",
      "10-07-2018  18:54             3,098 trial.ipynb\n",
      "10-07-2018  12:57    <DIR>          Untitled Folder\n",
      "27-07-2018  22:47    <DIR>          Untitled Folder 1\n",
      "27-07-2018  22:47    <DIR>          Untitled Folder 2\n",
      "10-07-2018  18:25             1,155 Untitled.ipynb\n",
      "10-07-2018  12:50                 0 untitled.txt\n",
      "10-07-2018  21:15                72 Untitled1.ipynb\n",
      "28-07-2018  13:19                72 Untitled2.ipynb\n",
      "28-07-2018  19:42                72 Untitled3.ipynb\n",
      "01-06-2015  18:30             2,468 user=.dfast7\n",
      "28-06-2018  19:03    <DIR>          venv\n",
      "11-07-2018  22:11    <DIR>          Videos\n",
      "10-06-2016  13:56    <DIR>          VinodScalaWorkspace\n",
      "11-07-2018  19:54    <DIR>          VirtualBox VMs\n",
      "11-07-2018  08:08            11,298 week3.ipynb\n",
      "01-06-2016  10:58    <DIR>          workspace\n",
      "01-06-2015  20:09           826,155 wxDownloadFast.ini\n",
      "01-06-2015  18:33             3,937 [files_inprogress_metalinkindex].dfast0\n",
      "01-06-2015  18:33            18,318 [files_inprogress_metalinkindex].dfast1\n",
      "01-06-2015  18:33             4,936 [files_inprogress_metalinkindex].dfast10\n",
      "01-06-2015  18:33             4,936 [files_inprogress_metalinkindex].dfast11\n",
      "01-06-2015  18:33             4,936 [files_inprogress_metalinkindex].dfast12\n",
      "01-06-2015  18:33             4,938 [files_inprogress_metalinkindex].dfast13\n",
      "01-06-2015  18:33             2,469 [files_inprogress_metalinkindex].dfast14\n",
      "01-06-2015  18:33            29,469 [files_inprogress_metalinkindex].dfast2\n",
      "01-06-2015  18:33            48,476 [files_inprogress_metalinkindex].dfast3\n",
      "01-06-2015  18:33             4,936 [files_inprogress_metalinkindex].dfast4\n",
      "01-06-2015  18:33             4,936 [files_inprogress_metalinkindex].dfast5\n",
      "01-06-2015  18:33             4,936 [files_inprogress_metalinkindex].dfast6\n",
      "01-06-2015  18:33             4,936 [files_inprogress_metalinkindex].dfast7\n",
      "01-06-2015  18:33             4,936 [files_inprogress_metalinkindex].dfast8\n",
      "01-06-2015  18:33             4,936 [files_inprogress_metalinkindex].dfast9\n",
      "01-06-2015  18:30            48,937 ].dfast0\n",
      "01-06-2015  18:30             2,468 ].dfast10\n",
      "01-06-2015  18:30             2,468 ].dfast11\n",
      "01-06-2015  18:30             2,468 ].dfast12\n",
      "01-06-2015  18:30             2,469 ].dfast14\n",
      "01-06-2015  18:30             2,468 ].dfast4\n",
      "01-06-2015  18:30            15,848 ].dfast7\n",
      "01-06-2015  18:30             2,468 ].dfast8\n",
      "01-06-2015  18:30             2,468 ].dfast9\n",
      "01-06-2015  18:21             2,468 _2.2.4_Sandbox_HDP_2.2.4.2_VirtualBox.ova .dfast11\n",
      "01-06-2015  18:21             2,469 _2.2.4_Sandbox_HDP_2.2.4.2_VirtualBox.ova .dfast13\n",
      "01-06-2015  18:21             2,468 _2.2.4_Sandbox_HDP_2.2.4.2_VirtualBox.ova .dfast7\n",
      "01-06-2015  18:22             2,468 _font size=1 color=#002f5e_Copying file..._BR_..dfast5\n",
      "01-06-2015  18:22             2,468 _font size=1 color=#002f5e_Copying file..._BR_..dfast9\n",
      "01-06-2015  18:33           618,505 _font size=1 color=#002f5e_Copying file..._BR_.dfast0\n",
      "01-06-2015  18:33           555,917 _font size=1 color=#002f5e_Copying file..._BR_.dfast1\n",
      "01-06-2015  18:33           119,448 _font size=1 color=#002f5e_Copying file..._BR_.dfast10\n",
      "01-06-2015  18:33            88,744 _font size=1 color=#002f5e_Copying file..._BR_.dfast11\n",
      "01-06-2015  18:33           131,820 _font size=1 color=#002f5e_Copying file..._BR_.dfast12\n",
      "01-06-2015  18:33            89,919 _font size=1 color=#002f5e_Copying file..._BR_.dfast13\n",
      "01-06-2015  18:33            83,946 _font size=1 color=#002f5e_Copying file..._BR_.dfast14\n",
      "01-06-2015  18:33           337,166 _font size=1 color=#002f5e_Copying file..._BR_.dfast2\n",
      "01-06-2015  18:33         2,043,616 _font size=1 color=#002f5e_Copying file..._BR_.dfast3\n",
      "01-06-2015  18:33            84,364 _font size=1 color=#002f5e_Copying file..._BR_.dfast4\n",
      "01-06-2015  18:33           105,272 _font size=1 color=#002f5e_Copying file..._BR_.dfast5\n",
      "01-06-2015  18:33            55,304 _font size=1 color=#002f5e_Copying file..._BR_.dfast6\n",
      "01-06-2015  18:33           140,071 _font size=1 color=#002f5e_Copying file..._BR_.dfast7\n",
      "01-06-2015  18:33         5,012,560 _font size=1 color=#002f5e_Copying file..._BR_.dfast8\n",
      "01-06-2015  18:33         4,847,656 _font size=1 color=#002f5e_Copying file..._BR_.dfast9\n",
      "01-06-2015  18:22             2,468 _font size=1 color=#009865_ OK_BR___font_.dfast11\n",
      "01-06-2015  18:22             2,469 _font size=1 color=#009865_ OK_BR___font_.dfast13\n",
      "01-06-2015  18:22             2,469 _font size=1 color=#009865_ OK_BR___font_.dfast14\n",
      "01-06-2015  18:22             2,468 _font size=1 color=#009865_ OK_BR___font_.dfast4\n",
      "01-06-2015  18:22             2,468 _font size=1 color=#009865_ OK_BR___font_.dfast5\n",
      "01-06-2015  18:22             2,468 _font size=1 color=#009865_ OK_BR___font_.dfast6\n",
      "01-06-2015  18:22             2,468 _font size=1 color=#009865_ OK_BR___font_.dfast7\n",
      "01-06-2015  18:22             2,468 _font size=1 color=#009865_ OK_BR___font_.dfast8\n",
      "             460 File(s)  2,185,556,110 bytes\n",
      "              86 Dir(s)  51,982,917,632 bytes free\n"
     ]
    }
   ],
   "source": [
    "!dir\n"
   ]
  },
  {
   "cell_type": "code",
   "execution_count": 58,
   "metadata": {},
   "outputs": [
    {
     "data": {
      "text/plain": [
       "'C:\\\\Users\\\\user'"
      ]
     },
     "execution_count": 58,
     "metadata": {},
     "output_type": "execute_result"
    }
   ],
   "source": [
    "pwd"
   ]
  },
  {
   "cell_type": "code",
   "execution_count": 54,
   "metadata": {},
   "outputs": [
    {
     "name": "stdout",
     "output_type": "stream",
     "text": [
      "<class 'pandas.core.frame.DataFrame'>\n"
     ]
    },
    {
     "data": {
      "text/html": [
       "<div>\n",
       "<style scoped>\n",
       "    .dataframe tbody tr th:only-of-type {\n",
       "        vertical-align: middle;\n",
       "    }\n",
       "\n",
       "    .dataframe tbody tr th {\n",
       "        vertical-align: top;\n",
       "    }\n",
       "\n",
       "    .dataframe thead th {\n",
       "        text-align: right;\n",
       "    }\n",
       "</style>\n",
       "<table border=\"1\" class=\"dataframe\">\n",
       "  <thead>\n",
       "    <tr style=\"text-align: right;\">\n",
       "      <th></th>\n",
       "      <th>movieId</th>\n",
       "      <th>title</th>\n",
       "      <th>genres</th>\n",
       "    </tr>\n",
       "  </thead>\n",
       "  <tbody>\n",
       "    <tr>\n",
       "      <th>0</th>\n",
       "      <td>1</td>\n",
       "      <td>Toy Story (1995)</td>\n",
       "      <td>Adventure|Animation|Children|Comedy|Fantasy</td>\n",
       "    </tr>\n",
       "    <tr>\n",
       "      <th>1</th>\n",
       "      <td>2</td>\n",
       "      <td>Jumanji (1995)</td>\n",
       "      <td>Adventure|Children|Fantasy</td>\n",
       "    </tr>\n",
       "    <tr>\n",
       "      <th>2</th>\n",
       "      <td>3</td>\n",
       "      <td>Grumpier Old Men (1995)</td>\n",
       "      <td>Comedy|Romance</td>\n",
       "    </tr>\n",
       "    <tr>\n",
       "      <th>3</th>\n",
       "      <td>4</td>\n",
       "      <td>Waiting to Exhale (1995)</td>\n",
       "      <td>Comedy|Drama|Romance</td>\n",
       "    </tr>\n",
       "    <tr>\n",
       "      <th>4</th>\n",
       "      <td>5</td>\n",
       "      <td>Father of the Bride Part II (1995)</td>\n",
       "      <td>Comedy</td>\n",
       "    </tr>\n",
       "    <tr>\n",
       "      <th>5</th>\n",
       "      <td>6</td>\n",
       "      <td>Heat (1995)</td>\n",
       "      <td>Action|Crime|Thriller</td>\n",
       "    </tr>\n",
       "    <tr>\n",
       "      <th>6</th>\n",
       "      <td>7</td>\n",
       "      <td>Sabrina (1995)</td>\n",
       "      <td>Comedy|Romance</td>\n",
       "    </tr>\n",
       "  </tbody>\n",
       "</table>\n",
       "</div>"
      ],
      "text/plain": [
       "   movieId                               title  \\\n",
       "0        1                    Toy Story (1995)   \n",
       "1        2                      Jumanji (1995)   \n",
       "2        3             Grumpier Old Men (1995)   \n",
       "3        4            Waiting to Exhale (1995)   \n",
       "4        5  Father of the Bride Part II (1995)   \n",
       "5        6                         Heat (1995)   \n",
       "6        7                      Sabrina (1995)   \n",
       "\n",
       "                                        genres  \n",
       "0  Adventure|Animation|Children|Comedy|Fantasy  \n",
       "1                   Adventure|Children|Fantasy  \n",
       "2                               Comedy|Romance  \n",
       "3                         Comedy|Drama|Romance  \n",
       "4                                       Comedy  \n",
       "5                        Action|Crime|Thriller  \n",
       "6                               Comedy|Romance  "
      ]
     },
     "execution_count": 54,
     "metadata": {},
     "output_type": "execute_result"
    }
   ],
   "source": [
    "import csv\n",
    "import pandas as pd\n",
    "movies = pd.read_csv('C:\\\\Users\\\\user\\\\movie\\\\movies.csv')\n",
    "print(type(movies))\n",
    "movies.head()\n",
    "movies.head(7)"
   ]
  },
  {
   "cell_type": "code",
   "execution_count": 56,
   "metadata": {},
   "outputs": [
    {
     "data": {
      "text/html": [
       "<div>\n",
       "<style scoped>\n",
       "    .dataframe tbody tr th:only-of-type {\n",
       "        vertical-align: middle;\n",
       "    }\n",
       "\n",
       "    .dataframe tbody tr th {\n",
       "        vertical-align: top;\n",
       "    }\n",
       "\n",
       "    .dataframe thead th {\n",
       "        text-align: right;\n",
       "    }\n",
       "</style>\n",
       "<table border=\"1\" class=\"dataframe\">\n",
       "  <thead>\n",
       "    <tr style=\"text-align: right;\">\n",
       "      <th></th>\n",
       "      <th>movieId</th>\n",
       "      <th>title</th>\n",
       "      <th>genres</th>\n",
       "    </tr>\n",
       "  </thead>\n",
       "  <tbody>\n",
       "    <tr>\n",
       "      <th>0</th>\n",
       "      <td>1</td>\n",
       "      <td>Toy Story (1995)</td>\n",
       "      <td>Adventure|Animation|Children|Comedy|Fantasy</td>\n",
       "    </tr>\n",
       "    <tr>\n",
       "      <th>1</th>\n",
       "      <td>2</td>\n",
       "      <td>Jumanji (1995)</td>\n",
       "      <td>Adventure|Children|Fantasy</td>\n",
       "    </tr>\n",
       "    <tr>\n",
       "      <th>2</th>\n",
       "      <td>3</td>\n",
       "      <td>Grumpier Old Men (1995)</td>\n",
       "      <td>Comedy|Romance</td>\n",
       "    </tr>\n",
       "    <tr>\n",
       "      <th>3</th>\n",
       "      <td>4</td>\n",
       "      <td>Waiting to Exhale (1995)</td>\n",
       "      <td>Comedy|Drama|Romance</td>\n",
       "    </tr>\n",
       "    <tr>\n",
       "      <th>4</th>\n",
       "      <td>5</td>\n",
       "      <td>Father of the Bride Part II (1995)</td>\n",
       "      <td>Comedy</td>\n",
       "    </tr>\n",
       "    <tr>\n",
       "      <th>5</th>\n",
       "      <td>6</td>\n",
       "      <td>Heat (1995)</td>\n",
       "      <td>Action|Crime|Thriller</td>\n",
       "    </tr>\n",
       "    <tr>\n",
       "      <th>6</th>\n",
       "      <td>7</td>\n",
       "      <td>Sabrina (1995)</td>\n",
       "      <td>Comedy|Romance</td>\n",
       "    </tr>\n",
       "  </tbody>\n",
       "</table>\n",
       "</div>"
      ],
      "text/plain": [
       "   movieId                               title  \\\n",
       "0        1                    Toy Story (1995)   \n",
       "1        2                      Jumanji (1995)   \n",
       "2        3             Grumpier Old Men (1995)   \n",
       "3        4            Waiting to Exhale (1995)   \n",
       "4        5  Father of the Bride Part II (1995)   \n",
       "5        6                         Heat (1995)   \n",
       "6        7                      Sabrina (1995)   \n",
       "\n",
       "                                        genres  \n",
       "0  Adventure|Animation|Children|Comedy|Fantasy  \n",
       "1                   Adventure|Children|Fantasy  \n",
       "2                               Comedy|Romance  \n",
       "3                         Comedy|Drama|Romance  \n",
       "4                                       Comedy  \n",
       "5                        Action|Crime|Thriller  \n",
       "6                               Comedy|Romance  "
      ]
     },
     "execution_count": 56,
     "metadata": {},
     "output_type": "execute_result"
    }
   ],
   "source": [
    "movies.head(n=7)"
   ]
  },
  {
   "cell_type": "code",
   "execution_count": 61,
   "metadata": {},
   "outputs": [
    {
     "data": {
      "text/html": [
       "<div>\n",
       "<style scoped>\n",
       "    .dataframe tbody tr th:only-of-type {\n",
       "        vertical-align: middle;\n",
       "    }\n",
       "\n",
       "    .dataframe tbody tr th {\n",
       "        vertical-align: top;\n",
       "    }\n",
       "\n",
       "    .dataframe thead th {\n",
       "        text-align: right;\n",
       "    }\n",
       "</style>\n",
       "<table border=\"1\" class=\"dataframe\">\n",
       "  <thead>\n",
       "    <tr style=\"text-align: right;\">\n",
       "      <th></th>\n",
       "      <th>movieId</th>\n",
       "      <th>title</th>\n",
       "      <th>genres</th>\n",
       "    </tr>\n",
       "  </thead>\n",
       "  <tbody>\n",
       "    <tr>\n",
       "      <th>0</th>\n",
       "      <td>1</td>\n",
       "      <td>Toy Story (1995)</td>\n",
       "      <td>Adventure|Animation|Children|Comedy|Fantasy</td>\n",
       "    </tr>\n",
       "    <tr>\n",
       "      <th>1</th>\n",
       "      <td>2</td>\n",
       "      <td>Jumanji (1995)</td>\n",
       "      <td>Adventure|Children|Fantasy</td>\n",
       "    </tr>\n",
       "    <tr>\n",
       "      <th>2</th>\n",
       "      <td>3</td>\n",
       "      <td>Grumpier Old Men (1995)</td>\n",
       "      <td>Comedy|Romance</td>\n",
       "    </tr>\n",
       "    <tr>\n",
       "      <th>3</th>\n",
       "      <td>4</td>\n",
       "      <td>Waiting to Exhale (1995)</td>\n",
       "      <td>Comedy|Drama|Romance</td>\n",
       "    </tr>\n",
       "    <tr>\n",
       "      <th>4</th>\n",
       "      <td>5</td>\n",
       "      <td>Father of the Bride Part II (1995)</td>\n",
       "      <td>Comedy</td>\n",
       "    </tr>\n",
       "    <tr>\n",
       "      <th>5</th>\n",
       "      <td>6</td>\n",
       "      <td>Heat (1995)</td>\n",
       "      <td>Action|Crime|Thriller</td>\n",
       "    </tr>\n",
       "    <tr>\n",
       "      <th>6</th>\n",
       "      <td>7</td>\n",
       "      <td>Sabrina (1995)</td>\n",
       "      <td>Comedy|Romance</td>\n",
       "    </tr>\n",
       "  </tbody>\n",
       "</table>\n",
       "</div>"
      ],
      "text/plain": [
       "   movieId                               title  \\\n",
       "0        1                    Toy Story (1995)   \n",
       "1        2                      Jumanji (1995)   \n",
       "2        3             Grumpier Old Men (1995)   \n",
       "3        4            Waiting to Exhale (1995)   \n",
       "4        5  Father of the Bride Part II (1995)   \n",
       "5        6                         Heat (1995)   \n",
       "6        7                      Sabrina (1995)   \n",
       "\n",
       "                                        genres  \n",
       "0  Adventure|Animation|Children|Comedy|Fantasy  \n",
       "1                   Adventure|Children|Fantasy  \n",
       "2                               Comedy|Romance  \n",
       "3                         Comedy|Drama|Romance  \n",
       "4                                       Comedy  \n",
       "5                        Action|Crime|Thriller  \n",
       "6                               Comedy|Romance  "
      ]
     },
     "execution_count": 61,
     "metadata": {},
     "output_type": "execute_result"
    }
   ],
   "source": [
    "movies[:7]"
   ]
  },
  {
   "cell_type": "code",
   "execution_count": null,
   "metadata": {},
   "outputs": [],
   "source": [
    "import pandas as pd\n",
    "import io\n",
    "import requests\n",
    "\n",
    "url = \"https://raw.github.com/vincentarelbundock/Rdatasets/master/csv/datasets/AirPassengers.csv\"\n",
    "s = requests.get(url).content\n",
    "ds = pd.read_csv(io.StringIO(s.decode('utf-8')))\n",
    "print(ds.describe())"
   ]
  },
  {
   "cell_type": "code",
   "execution_count": 1,
   "metadata": {},
   "outputs": [],
   "source": [
    "import pandas as pd\n",
    "import numpy as np\n",
    "import os.path"
   ]
  },
  {
   "cell_type": "code",
   "execution_count": 10,
   "metadata": {},
   "outputs": [
    {
     "data": {
      "text/html": [
       "<div>\n",
       "<style scoped>\n",
       "    .dataframe tbody tr th:only-of-type {\n",
       "        vertical-align: middle;\n",
       "    }\n",
       "\n",
       "    .dataframe tbody tr th {\n",
       "        vertical-align: top;\n",
       "    }\n",
       "\n",
       "    .dataframe thead th {\n",
       "        text-align: right;\n",
       "    }\n",
       "</style>\n",
       "<table border=\"1\" class=\"dataframe\">\n",
       "  <thead>\n",
       "    <tr style=\"text-align: right;\">\n",
       "      <th></th>\n",
       "      <th>userId</th>\n",
       "      <th>movieId</th>\n",
       "      <th>rating</th>\n",
       "      <th>timestamp</th>\n",
       "    </tr>\n",
       "  </thead>\n",
       "  <tbody>\n",
       "    <tr>\n",
       "      <th>0</th>\n",
       "      <td>1</td>\n",
       "      <td>2</td>\n",
       "      <td>3.5</td>\n",
       "      <td>1112486027</td>\n",
       "    </tr>\n",
       "    <tr>\n",
       "      <th>1</th>\n",
       "      <td>1</td>\n",
       "      <td>29</td>\n",
       "      <td>3.5</td>\n",
       "      <td>1112484676</td>\n",
       "    </tr>\n",
       "    <tr>\n",
       "      <th>2</th>\n",
       "      <td>1</td>\n",
       "      <td>32</td>\n",
       "      <td>3.5</td>\n",
       "      <td>1112484819</td>\n",
       "    </tr>\n",
       "    <tr>\n",
       "      <th>3</th>\n",
       "      <td>1</td>\n",
       "      <td>47</td>\n",
       "      <td>3.5</td>\n",
       "      <td>1112484727</td>\n",
       "    </tr>\n",
       "    <tr>\n",
       "      <th>4</th>\n",
       "      <td>1</td>\n",
       "      <td>50</td>\n",
       "      <td>3.5</td>\n",
       "      <td>1112484580</td>\n",
       "    </tr>\n",
       "  </tbody>\n",
       "</table>\n",
       "</div>"
      ],
      "text/plain": [
       "   userId  movieId  rating   timestamp\n",
       "0       1        2     3.5  1112486027\n",
       "1       1       29     3.5  1112484676\n",
       "2       1       32     3.5  1112484819\n",
       "3       1       47     3.5  1112484727\n",
       "4       1       50     3.5  1112484580"
      ]
     },
     "execution_count": 10,
     "metadata": {},
     "output_type": "execute_result"
    }
   ],
   "source": [
    "ratings = pd.read_csv(os.path.join('C:\\\\Users\\\\user\\\\movie\\\\ratings.csv'), sep=',')\n",
    "ratings.head()"
   ]
  },
  {
   "cell_type": "code",
   "execution_count": 2,
   "metadata": {},
   "outputs": [],
   "source": [
    "!cd PyDaSc"
   ]
  },
  {
   "cell_type": "code",
   "execution_count": 4,
   "metadata": {},
   "outputs": [
    {
     "data": {
      "text/plain": [
       "'C:\\\\Users\\\\user'"
      ]
     },
     "execution_count": 4,
     "metadata": {},
     "output_type": "execute_result"
    }
   ],
   "source": [
    "pwd"
   ]
  },
  {
   "cell_type": "code",
   "execution_count": 18,
   "metadata": {},
   "outputs": [],
   "source": [
    "!cd C:\\\\Users\\\\user\\\\PyDaSc"
   ]
  },
  {
   "cell_type": "code",
   "execution_count": 7,
   "metadata": {},
   "outputs": [
    {
     "data": {
      "text/plain": [
       "'C:\\\\Users\\\\user'"
      ]
     },
     "execution_count": 7,
     "metadata": {},
     "output_type": "execute_result"
    }
   ],
   "source": [
    "pwd"
   ]
  },
  {
   "cell_type": "code",
   "execution_count": 51,
   "metadata": {},
   "outputs": [
    {
     "data": {
      "text/html": [
       "<div>\n",
       "<style scoped>\n",
       "    .dataframe tbody tr th:only-of-type {\n",
       "        vertical-align: middle;\n",
       "    }\n",
       "\n",
       "    .dataframe tbody tr th {\n",
       "        vertical-align: top;\n",
       "    }\n",
       "\n",
       "    .dataframe thead th {\n",
       "        text-align: right;\n",
       "    }\n",
       "</style>\n",
       "<table border=\"1\" class=\"dataframe\">\n",
       "  <thead>\n",
       "    <tr style=\"text-align: right;\">\n",
       "      <th></th>\n",
       "      <th>Unnamed: 0</th>\n",
       "      <th>time</th>\n",
       "      <th>value</th>\n",
       "    </tr>\n",
       "  </thead>\n",
       "  <tbody>\n",
       "    <tr>\n",
       "      <th>0</th>\n",
       "      <td>1</td>\n",
       "      <td>1949.000000</td>\n",
       "      <td>112</td>\n",
       "    </tr>\n",
       "    <tr>\n",
       "      <th>1</th>\n",
       "      <td>2</td>\n",
       "      <td>1949.083333</td>\n",
       "      <td>118</td>\n",
       "    </tr>\n",
       "    <tr>\n",
       "      <th>2</th>\n",
       "      <td>3</td>\n",
       "      <td>1949.166667</td>\n",
       "      <td>132</td>\n",
       "    </tr>\n",
       "    <tr>\n",
       "      <th>3</th>\n",
       "      <td>4</td>\n",
       "      <td>1949.250000</td>\n",
       "      <td>129</td>\n",
       "    </tr>\n",
       "    <tr>\n",
       "      <th>4</th>\n",
       "      <td>5</td>\n",
       "      <td>1949.333333</td>\n",
       "      <td>121</td>\n",
       "    </tr>\n",
       "  </tbody>\n",
       "</table>\n",
       "</div>"
      ],
      "text/plain": [
       "   Unnamed: 0         time  value\n",
       "0           1  1949.000000    112\n",
       "1           2  1949.083333    118\n",
       "2           3  1949.166667    132\n",
       "3           4  1949.250000    129\n",
       "4           5  1949.333333    121"
      ]
     },
     "execution_count": 51,
     "metadata": {},
     "output_type": "execute_result"
    }
   ],
   "source": [
    "ds.head()"
   ]
  },
  {
   "cell_type": "code",
   "execution_count": 15,
   "metadata": {},
   "outputs": [
    {
     "data": {
      "text/plain": [
       "'C:\\\\Users\\\\user'"
      ]
     },
     "execution_count": 15,
     "metadata": {},
     "output_type": "execute_result"
    }
   ],
   "source": [
    "pwd\n"
   ]
  },
  {
   "cell_type": "code",
   "execution_count": 1,
   "metadata": {},
   "outputs": [],
   "source": [
    "import pandas as pd\n",
    "ser = pd.Series([100, 200, 300, 400, 500], index = ['tom', 'bob', 'nancy', 'dan', 'eric'])\n"
   ]
  },
  {
   "cell_type": "code",
   "execution_count": 28,
   "metadata": {},
   "outputs": [
    {
     "data": {
      "text/plain": [
       "tom    100\n",
       "bob    200\n",
       "dtype: int64"
      ]
     },
     "execution_count": 28,
     "metadata": {},
     "output_type": "execute_result"
    }
   ],
   "source": [
    "ser.iloc[[0,1]]"
   ]
  },
  {
   "cell_type": "code",
   "execution_count": 29,
   "metadata": {},
   "outputs": [
    {
     "data": {
      "text/plain": [
       "tom    100\n",
       "bob    200\n",
       "dtype: int64"
      ]
     },
     "execution_count": 29,
     "metadata": {},
     "output_type": "execute_result"
    }
   ],
   "source": [
    "ser.loc[['tom','bob']] "
   ]
  },
  {
   "cell_type": "code",
   "execution_count": 30,
   "metadata": {},
   "outputs": [
    {
     "data": {
      "text/plain": [
       "tom    100\n",
       "bob    200\n",
       "dtype: int64"
      ]
     },
     "execution_count": 30,
     "metadata": {},
     "output_type": "execute_result"
    }
   ],
   "source": [
    "ser[[0,1]]"
   ]
  },
  {
   "cell_type": "code",
   "execution_count": 31,
   "metadata": {},
   "outputs": [
    {
     "data": {
      "text/plain": [
       "tom    100\n",
       "bob    200\n",
       "dtype: int64"
      ]
     },
     "execution_count": 31,
     "metadata": {},
     "output_type": "execute_result"
    }
   ],
   "source": [
    "ser[['tom','bob']]"
   ]
  },
  {
   "cell_type": "code",
   "execution_count": 3,
   "metadata": {},
   "outputs": [
    {
     "data": {
      "text/plain": [
       "True"
      ]
     },
     "execution_count": 3,
     "metadata": {},
     "output_type": "execute_result"
    }
   ],
   "source": [
    "d = {'one' : pd.Series([100.,200.], index=['apple','orange']),\n",
    "    'two' : pd.Series([111.,211], index=['apple','orange'])}\n",
    "df = pd.DataFrame(d)\n",
    "filter = df['one']>100\n",
    "filter.any()"
   ]
  },
  {
   "cell_type": "code",
   "execution_count": 79,
   "metadata": {},
   "outputs": [],
   "source": [
    "cstring = \"Feuer, Eis & Dosenbier\"\n"
   ]
  },
  {
   "cell_type": "code",
   "execution_count": 6,
   "metadata": {},
   "outputs": [
    {
     "data": {
      "text/plain": [
       "array([1, 2, 3, 4])"
      ]
     },
     "execution_count": 6,
     "metadata": {},
     "output_type": "execute_result"
    }
   ],
   "source": [
    "import numpy as np\n",
    "np.unique([1,1,3,4,2,3,3])"
   ]
  },
  {
   "cell_type": "code",
   "execution_count": 1,
   "metadata": {},
   "outputs": [],
   "source": [
    "import pandas as pd\n",
    "import numpy as np"
   ]
  },
  {
   "cell_type": "code",
   "execution_count": 11,
   "metadata": {},
   "outputs": [],
   "source": [
    "url = 'http://originsdna.com/content/WERtable2.csv'\n",
    "    \n",
    "originex = pd.read_csv(url, sep = '\\t')"
   ]
  },
  {
   "cell_type": "code",
   "execution_count": 12,
   "metadata": {},
   "outputs": [
    {
     "data": {
      "text/html": [
       "<div>\n",
       "<style scoped>\n",
       "    .dataframe tbody tr th:only-of-type {\n",
       "        vertical-align: middle;\n",
       "    }\n",
       "\n",
       "    .dataframe tbody tr th {\n",
       "        vertical-align: top;\n",
       "    }\n",
       "\n",
       "    .dataframe thead th {\n",
       "        text-align: right;\n",
       "    }\n",
       "</style>\n",
       "<table border=\"1\" class=\"dataframe\">\n",
       "  <thead>\n",
       "    <tr style=\"text-align: right;\">\n",
       "      <th></th>\n",
       "      <th>ID,Country,Haplogroup,DYS393,DYS390,DYS19,DYS391,DYS385a,DYS385b,DYS426,DYS388,DYS439,DYS389i,DYS392,DYS389ii,DYS458,DYS459a,DYS459b,DYS455,DYS454,DYS447,DYS437,DYS448,DYS449,DYS464a,DYS464b,DYS464c,DYS464d,DYS460,Y-GATA-H4,YCAIIa,YCAIIb,DYS456,DYS607,DYS576,DYS570,CDYa,CDYb,DYS442,DYS438</th>\n",
       "    </tr>\n",
       "  </thead>\n",
       "  <tbody>\n",
       "    <tr>\n",
       "      <th>0</th>\n",
       "      <td>WER001,Belgium,R1b,13,23,14,10,11,15,12,12,12,...</td>\n",
       "    </tr>\n",
       "    <tr>\n",
       "      <th>1</th>\n",
       "      <td>WER002,Belgium,R1b,13,23,14,11,11,15,12,12,12,...</td>\n",
       "    </tr>\n",
       "    <tr>\n",
       "      <th>2</th>\n",
       "      <td>WER003,Denmark,R1b,13,24,14,11,11,14,12,12,12,...</td>\n",
       "    </tr>\n",
       "    <tr>\n",
       "      <th>3</th>\n",
       "      <td>WER004,Denmark,R1b,13,24,14,10,11,14,12,12,12,...</td>\n",
       "    </tr>\n",
       "    <tr>\n",
       "      <th>4</th>\n",
       "      <td>WER005,England,R1b,13,24,14,11,11,14,12,12,12,...</td>\n",
       "    </tr>\n",
       "    <tr>\n",
       "      <th>5</th>\n",
       "      <td>WER006,England,R1b,13,24,14,11,12,14,12,12,12,...</td>\n",
       "    </tr>\n",
       "    <tr>\n",
       "      <th>6</th>\n",
       "      <td>WER007,England,R1b,13,25,14,11,11,15,12,12,12,...</td>\n",
       "    </tr>\n",
       "    <tr>\n",
       "      <th>7</th>\n",
       "      <td>WER008,England,R1b,13,23,14,11,11,15,12,12,12,...</td>\n",
       "    </tr>\n",
       "    <tr>\n",
       "      <th>8</th>\n",
       "      <td>WER009,England,R1b,13,23,15,11,11,13,12,12,12,...</td>\n",
       "    </tr>\n",
       "    <tr>\n",
       "      <th>9</th>\n",
       "      <td>WER010,England,R1b,13,24,14,11,11,14,12,12,12,...</td>\n",
       "    </tr>\n",
       "  </tbody>\n",
       "</table>\n",
       "</div>"
      ],
      "text/plain": [
       "  ID,Country,Haplogroup,DYS393,DYS390,DYS19,DYS391,DYS385a,DYS385b,DYS426,DYS388,DYS439,DYS389i,DYS392,DYS389ii,DYS458,DYS459a,DYS459b,DYS455,DYS454,DYS447,DYS437,DYS448,DYS449,DYS464a,DYS464b,DYS464c,DYS464d,DYS460,Y-GATA-H4,YCAIIa,YCAIIb,DYS456,DYS607,DYS576,DYS570,CDYa,CDYb,DYS442,DYS438\n",
       "0  WER001,Belgium,R1b,13,23,14,10,11,15,12,12,12,...                                                                                                                                                                                                                                               \n",
       "1  WER002,Belgium,R1b,13,23,14,11,11,15,12,12,12,...                                                                                                                                                                                                                                               \n",
       "2  WER003,Denmark,R1b,13,24,14,11,11,14,12,12,12,...                                                                                                                                                                                                                                               \n",
       "3  WER004,Denmark,R1b,13,24,14,10,11,14,12,12,12,...                                                                                                                                                                                                                                               \n",
       "4  WER005,England,R1b,13,24,14,11,11,14,12,12,12,...                                                                                                                                                                                                                                               \n",
       "5  WER006,England,R1b,13,24,14,11,12,14,12,12,12,...                                                                                                                                                                                                                                               \n",
       "6  WER007,England,R1b,13,25,14,11,11,15,12,12,12,...                                                                                                                                                                                                                                               \n",
       "7  WER008,England,R1b,13,23,14,11,11,15,12,12,12,...                                                                                                                                                                                                                                               \n",
       "8  WER009,England,R1b,13,23,15,11,11,13,12,12,12,...                                                                                                                                                                                                                                               \n",
       "9  WER010,England,R1b,13,24,14,11,11,14,12,12,12,...                                                                                                                                                                                                                                               "
      ]
     },
     "execution_count": 12,
     "metadata": {},
     "output_type": "execute_result"
    }
   ],
   "source": [
    "originex.head(10)"
   ]
  },
  {
   "cell_type": "code",
   "execution_count": 19,
   "metadata": {},
   "outputs": [
    {
     "data": {
      "text/plain": [
       "(336, 1)"
      ]
     },
     "execution_count": 19,
     "metadata": {},
     "output_type": "execute_result"
    }
   ],
   "source": [
    "originex.shape"
   ]
  },
  {
   "cell_type": "code",
   "execution_count": 14,
   "metadata": {},
   "outputs": [
    {
     "name": "stdout",
     "output_type": "stream",
     "text": [
      "<class 'pandas.core.frame.DataFrame'>\n",
      "RangeIndex: 336 entries, 0 to 335\n",
      "Data columns (total 1 columns):\n",
      "ID,Country,Haplogroup,DYS393,DYS390,DYS19,DYS391,DYS385a,DYS385b,DYS426,DYS388,DYS439,DYS389i,DYS392,DYS389ii,DYS458,DYS459a,DYS459b,DYS455,DYS454,DYS447,DYS437,DYS448,DYS449,DYS464a,DYS464b,DYS464c,DYS464d,DYS460,Y-GATA-H4,YCAIIa,YCAIIb,DYS456,DYS607,DYS576,DYS570,CDYa,CDYb,DYS442,DYS438    336 non-null object\n",
      "dtypes: object(1)\n",
      "memory usage: 2.7+ KB\n"
     ]
    }
   ],
   "source": [
    "originex.info()"
   ]
  },
  {
   "cell_type": "code",
   "execution_count": 18,
   "metadata": {},
   "outputs": [
    {
     "data": {
      "text/plain": [
       "Index(['ID,Country,Haplogroup,DYS393,DYS390,DYS19,DYS391,DYS385a,DYS385b,DYS426,DYS388,DYS439,DYS389i,DYS392,DYS389ii,DYS458,DYS459a,DYS459b,DYS455,DYS454,DYS447,DYS437,DYS448,DYS449,DYS464a,DYS464b,DYS464c,DYS464d,DYS460,Y-GATA-H4,YCAIIa,YCAIIb,DYS456,DYS607,DYS576,DYS570,CDYa,CDYb,DYS442,DYS438'], dtype='object')"
      ]
     },
     "execution_count": 18,
     "metadata": {},
     "output_type": "execute_result"
    }
   ],
   "source": [
    "originex.columns"
   ]
  },
  {
   "cell_type": "code",
   "execution_count": 17,
   "metadata": {},
   "outputs": [
    {
     "data": {
      "text/plain": [
       "RangeIndex(start=0, stop=336, step=1)"
      ]
     },
     "execution_count": 17,
     "metadata": {},
     "output_type": "execute_result"
    }
   ],
   "source": [
    "originex.index"
   ]
  },
  {
   "cell_type": "code",
   "execution_count": null,
   "metadata": {},
   "outputs": [],
   "source": [
    "url = 'http://microdata.worldbank.org/index.php/catalog/2949/datafile/F6'"
   ]
  },
  {
   "cell_type": "code",
   "execution_count": null,
   "metadata": {},
   "outputs": [],
   "source": []
  }
 ],
 "metadata": {
  "kernelspec": {
   "display_name": "Python 3",
   "language": "python",
   "name": "python3"
  },
  "language_info": {
   "codemirror_mode": {
    "name": "ipython",
    "version": 3
   },
   "file_extension": ".py",
   "mimetype": "text/x-python",
   "name": "python",
   "nbconvert_exporter": "python",
   "pygments_lexer": "ipython3",
   "version": "3.6.5"
  }
 },
 "nbformat": 4,
 "nbformat_minor": 2
}
