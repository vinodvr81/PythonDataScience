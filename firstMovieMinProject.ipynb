{
 "cells": [
  {
   "cell_type": "markdown",
   "metadata": {},
   "source": [
    "# PROJECT QUESTION: Can we predict which movie genre people like the most and can we draw some conlusion regarding human behaviour with the analysis?"
   ]
  },
  {
   "cell_type": "code",
   "execution_count": 11,
   "metadata": {},
   "outputs": [
    {
     "data": {
      "text/html": [
       "<div>\n",
       "<style scoped>\n",
       "    .dataframe tbody tr th:only-of-type {\n",
       "        vertical-align: middle;\n",
       "    }\n",
       "\n",
       "    .dataframe tbody tr th {\n",
       "        vertical-align: top;\n",
       "    }\n",
       "\n",
       "    .dataframe thead th {\n",
       "        text-align: right;\n",
       "    }\n",
       "</style>\n",
       "<table border=\"1\" class=\"dataframe\">\n",
       "  <thead>\n",
       "    <tr style=\"text-align: right;\">\n",
       "      <th></th>\n",
       "      <th>movieId</th>\n",
       "      <th>title</th>\n",
       "      <th>genres</th>\n",
       "    </tr>\n",
       "  </thead>\n",
       "  <tbody>\n",
       "    <tr>\n",
       "      <th>0</th>\n",
       "      <td>1</td>\n",
       "      <td>Toy Story (1995)</td>\n",
       "      <td>Adventure|Animation|Children|Comedy|Fantasy</td>\n",
       "    </tr>\n",
       "    <tr>\n",
       "      <th>1</th>\n",
       "      <td>2</td>\n",
       "      <td>Jumanji (1995)</td>\n",
       "      <td>Adventure|Children|Fantasy</td>\n",
       "    </tr>\n",
       "    <tr>\n",
       "      <th>2</th>\n",
       "      <td>3</td>\n",
       "      <td>Grumpier Old Men (1995)</td>\n",
       "      <td>Comedy|Romance</td>\n",
       "    </tr>\n",
       "    <tr>\n",
       "      <th>3</th>\n",
       "      <td>4</td>\n",
       "      <td>Waiting to Exhale (1995)</td>\n",
       "      <td>Comedy|Drama|Romance</td>\n",
       "    </tr>\n",
       "    <tr>\n",
       "      <th>4</th>\n",
       "      <td>5</td>\n",
       "      <td>Father of the Bride Part II (1995)</td>\n",
       "      <td>Comedy</td>\n",
       "    </tr>\n",
       "  </tbody>\n",
       "</table>\n",
       "</div>"
      ],
      "text/plain": [
       "   movieId                               title  \\\n",
       "0        1                    Toy Story (1995)   \n",
       "1        2                      Jumanji (1995)   \n",
       "2        3             Grumpier Old Men (1995)   \n",
       "3        4            Waiting to Exhale (1995)   \n",
       "4        5  Father of the Bride Part II (1995)   \n",
       "\n",
       "                                        genres  \n",
       "0  Adventure|Animation|Children|Comedy|Fantasy  \n",
       "1                   Adventure|Children|Fantasy  \n",
       "2                               Comedy|Romance  \n",
       "3                         Comedy|Drama|Romance  \n",
       "4                                       Comedy  "
      ]
     },
     "execution_count": 11,
     "metadata": {},
     "output_type": "execute_result"
    }
   ],
   "source": [
    "import numpy as np\n",
    "import pandas as pd\n",
    "movieEx = pd.read_csv('movies.csv', sep=',')\n",
    "movieEx.head()"
   ]
  },
  {
   "cell_type": "code",
   "execution_count": 2,
   "metadata": {},
   "outputs": [
    {
     "data": {
      "text/html": [
       "<div>\n",
       "<style scoped>\n",
       "    .dataframe tbody tr th:only-of-type {\n",
       "        vertical-align: middle;\n",
       "    }\n",
       "\n",
       "    .dataframe tbody tr th {\n",
       "        vertical-align: top;\n",
       "    }\n",
       "\n",
       "    .dataframe thead th {\n",
       "        text-align: right;\n",
       "    }\n",
       "</style>\n",
       "<table border=\"1\" class=\"dataframe\">\n",
       "  <thead>\n",
       "    <tr style=\"text-align: right;\">\n",
       "      <th></th>\n",
       "      <th>userId</th>\n",
       "      <th>movieId</th>\n",
       "      <th>rating</th>\n",
       "      <th>timestamp</th>\n",
       "    </tr>\n",
       "  </thead>\n",
       "  <tbody>\n",
       "    <tr>\n",
       "      <th>0</th>\n",
       "      <td>1</td>\n",
       "      <td>2</td>\n",
       "      <td>3.5</td>\n",
       "      <td>1112486027</td>\n",
       "    </tr>\n",
       "    <tr>\n",
       "      <th>1</th>\n",
       "      <td>1</td>\n",
       "      <td>29</td>\n",
       "      <td>3.5</td>\n",
       "      <td>1112484676</td>\n",
       "    </tr>\n",
       "    <tr>\n",
       "      <th>2</th>\n",
       "      <td>1</td>\n",
       "      <td>32</td>\n",
       "      <td>3.5</td>\n",
       "      <td>1112484819</td>\n",
       "    </tr>\n",
       "    <tr>\n",
       "      <th>3</th>\n",
       "      <td>1</td>\n",
       "      <td>47</td>\n",
       "      <td>3.5</td>\n",
       "      <td>1112484727</td>\n",
       "    </tr>\n",
       "    <tr>\n",
       "      <th>4</th>\n",
       "      <td>1</td>\n",
       "      <td>50</td>\n",
       "      <td>3.5</td>\n",
       "      <td>1112484580</td>\n",
       "    </tr>\n",
       "  </tbody>\n",
       "</table>\n",
       "</div>"
      ],
      "text/plain": [
       "   userId  movieId  rating   timestamp\n",
       "0       1        2     3.5  1112486027\n",
       "1       1       29     3.5  1112484676\n",
       "2       1       32     3.5  1112484819\n",
       "3       1       47     3.5  1112484727\n",
       "4       1       50     3.5  1112484580"
      ]
     },
     "execution_count": 2,
     "metadata": {},
     "output_type": "execute_result"
    }
   ],
   "source": [
    "ratings = pd.read_csv('C:\\\\Users\\\\user\\\\PyDaSc\\\\Week-4-Pandas\\\\ratings.csv', sep=',', parse_dates=['timestamp'])\n",
    "ratings.head()"
   ]
  },
  {
   "cell_type": "code",
   "execution_count": 13,
   "metadata": {},
   "outputs": [
    {
     "data": {
      "text/html": [
       "<div>\n",
       "<style scoped>\n",
       "    .dataframe tbody tr th:only-of-type {\n",
       "        vertical-align: middle;\n",
       "    }\n",
       "\n",
       "    .dataframe tbody tr th {\n",
       "        vertical-align: top;\n",
       "    }\n",
       "\n",
       "    .dataframe thead th {\n",
       "        text-align: right;\n",
       "    }\n",
       "</style>\n",
       "<table border=\"1\" class=\"dataframe\">\n",
       "  <thead>\n",
       "    <tr style=\"text-align: right;\">\n",
       "      <th></th>\n",
       "      <th>userId</th>\n",
       "      <th>movieId</th>\n",
       "      <th>rating</th>\n",
       "      <th>timestamp</th>\n",
       "      <th>title</th>\n",
       "      <th>genres</th>\n",
       "    </tr>\n",
       "  </thead>\n",
       "  <tbody>\n",
       "    <tr>\n",
       "      <th>0</th>\n",
       "      <td>1</td>\n",
       "      <td>2</td>\n",
       "      <td>3.5</td>\n",
       "      <td>1112486027</td>\n",
       "      <td>Jumanji (1995)</td>\n",
       "      <td>Adventure|Children|Fantasy</td>\n",
       "    </tr>\n",
       "    <tr>\n",
       "      <th>1</th>\n",
       "      <td>5</td>\n",
       "      <td>2</td>\n",
       "      <td>3.0</td>\n",
       "      <td>851527569</td>\n",
       "      <td>Jumanji (1995)</td>\n",
       "      <td>Adventure|Children|Fantasy</td>\n",
       "    </tr>\n",
       "    <tr>\n",
       "      <th>2</th>\n",
       "      <td>13</td>\n",
       "      <td>2</td>\n",
       "      <td>3.0</td>\n",
       "      <td>849082742</td>\n",
       "      <td>Jumanji (1995)</td>\n",
       "      <td>Adventure|Children|Fantasy</td>\n",
       "    </tr>\n",
       "    <tr>\n",
       "      <th>3</th>\n",
       "      <td>29</td>\n",
       "      <td>2</td>\n",
       "      <td>3.0</td>\n",
       "      <td>835562174</td>\n",
       "      <td>Jumanji (1995)</td>\n",
       "      <td>Adventure|Children|Fantasy</td>\n",
       "    </tr>\n",
       "    <tr>\n",
       "      <th>4</th>\n",
       "      <td>34</td>\n",
       "      <td>2</td>\n",
       "      <td>3.0</td>\n",
       "      <td>846509384</td>\n",
       "      <td>Jumanji (1995)</td>\n",
       "      <td>Adventure|Children|Fantasy</td>\n",
       "    </tr>\n",
       "  </tbody>\n",
       "</table>\n",
       "</div>"
      ],
      "text/plain": [
       "   userId  movieId  rating   timestamp           title  \\\n",
       "0       1        2     3.5  1112486027  Jumanji (1995)   \n",
       "1       5        2     3.0   851527569  Jumanji (1995)   \n",
       "2      13        2     3.0   849082742  Jumanji (1995)   \n",
       "3      29        2     3.0   835562174  Jumanji (1995)   \n",
       "4      34        2     3.0   846509384  Jumanji (1995)   \n",
       "\n",
       "                       genres  \n",
       "0  Adventure|Children|Fantasy  \n",
       "1  Adventure|Children|Fantasy  \n",
       "2  Adventure|Children|Fantasy  \n",
       "3  Adventure|Children|Fantasy  \n",
       "4  Adventure|Children|Fantasy  "
      ]
     },
     "execution_count": 13,
     "metadata": {},
     "output_type": "execute_result"
    }
   ],
   "source": [
    "movieRating = ratings.merge(movieEx, on='movieId', how='inner')\n",
    "movieRating.head()"
   ]
  },
  {
   "cell_type": "code",
   "execution_count": 16,
   "metadata": {},
   "outputs": [
    {
     "data": {
      "text/plain": [
       "userId       False\n",
       "movieId      False\n",
       "rating       False\n",
       "timestamp    False\n",
       "title        False\n",
       "genres       False\n",
       "dtype: bool"
      ]
     },
     "execution_count": 16,
     "metadata": {},
     "output_type": "execute_result"
    }
   ],
   "source": [
    "movieRating.isnull().any() ##is any row NULL ?"
   ]
  },
  {
   "cell_type": "code",
   "execution_count": 22,
   "metadata": {},
   "outputs": [],
   "source": [
    "movieRating['year'] = movieRating['title'].str.extract('.*\\((.*)\\).*', expand=True)"
   ]
  },
  {
   "cell_type": "code",
   "execution_count": 46,
   "metadata": {},
   "outputs": [
    {
     "data": {
      "text/plain": [
       "pandas.core.frame.DataFrame"
      ]
     },
     "execution_count": 46,
     "metadata": {},
     "output_type": "execute_result"
    }
   ],
   "source": [
    "type(movieRating)"
   ]
  },
  {
   "cell_type": "code",
   "execution_count": 49,
   "metadata": {},
   "outputs": [
    {
     "name": "stdout",
     "output_type": "stream",
     "text": [
      "3.5255285642993797\n"
     ]
    }
   ],
   "source": [
    "print(movieRating['rating'].mean())"
   ]
  },
  {
   "cell_type": "code",
   "execution_count": 43,
   "metadata": {},
   "outputs": [
    {
     "data": {
      "text/plain": [
       "genres              title                                                                       \n",
       "(no genres listed)  (Absolutions) Pipilotti's Mistakes ((Entlastungen) Pipilottis Fehler) (1988)    1.0\n",
       "                    1000 Journals (2007)                                                            2.0\n",
       "                    A Fight For (2014)                                                              3.0\n",
       "                    A Rumor Of War (1980)                                                           3.0\n",
       "                    A True Mob Story (1998)                                                         2.0\n",
       "Name: rating, dtype: float64"
      ]
     },
     "execution_count": 43,
     "metadata": {},
     "output_type": "execute_result"
    }
   ],
   "source": [
    "average_rating.head()"
   ]
  },
  {
   "cell_type": "code",
   "execution_count": 51,
   "metadata": {},
   "outputs": [
    {
     "data": {
      "text/plain": [
       "userId         int64\n",
       "movieId        int64\n",
       "rating       float64\n",
       "timestamp     object\n",
       "title         object\n",
       "genres        object\n",
       "year          object\n",
       "dtype: object"
      ]
     },
     "execution_count": 51,
     "metadata": {},
     "output_type": "execute_result"
    }
   ],
   "source": [
    "movieRating.dtypes"
   ]
  },
  {
   "cell_type": "code",
   "execution_count": 64,
   "metadata": {},
   "outputs": [
    {
     "data": {
      "text/plain": [
       "count    2.000026e+07\n",
       "mean     3.525529e+00\n",
       "std      1.051989e+00\n",
       "min      5.000000e-01\n",
       "25%      3.000000e+00\n",
       "50%      3.500000e+00\n",
       "75%      4.000000e+00\n",
       "max      5.000000e+00\n",
       "Name: rating, dtype: float64"
      ]
     },
     "execution_count": 64,
     "metadata": {},
     "output_type": "execute_result"
    }
   ],
   "source": [
    "movieRating['rating'].describe()\n"
   ]
  },
  {
   "cell_type": "code",
   "execution_count": 72,
   "metadata": {},
   "outputs": [
    {
     "data": {
      "text/plain": [
       "Pulp Fiction (1994)                                                               67310\n",
       "Forrest Gump (1994)                                                               66172\n",
       "Shawshank Redemption, The (1994)                                                  63366\n",
       "Silence of the Lambs, The (1991)                                                  63299\n",
       "Jurassic Park (1993)                                                              59715\n",
       "Star Wars: Episode IV - A New Hope (1977)                                         54502\n",
       "Braveheart (1995)                                                                 53769\n",
       "Terminator 2: Judgment Day (1991)                                                 52244\n",
       "Matrix, The (1999)                                                                51334\n",
       "Schindler's List (1993)                                                           50054\n",
       "Toy Story (1995)                                                                  49695\n",
       "Fugitive, The (1993)                                                              49581\n",
       "Apollo 13 (1995)                                                                  47777\n",
       "Independence Day (a.k.a. ID4) (1996)                                              47048\n",
       "Usual Suspects, The (1995)                                                        47006\n",
       "Star Wars: Episode VI - Return of the Jedi (1983)                                 46839\n",
       "Batman (1989)                                                                     46054\n",
       "Star Wars: Episode V - The Empire Strikes Back (1980)                             45313\n",
       "American Beauty (1999)                                                            44987\n",
       "Twelve Monkeys (a.k.a. 12 Monkeys) (1995)                                         44980\n",
       "Dances with Wolves (1990)                                                         44208\n",
       "Raiders of the Lost Ark (Indiana Jones and the Raiders of the Lost Ark) (1981)    43295\n",
       "Fargo (1996)                                                                      43272\n",
       "Seven (a.k.a. Se7en) (1995)                                                       43249\n",
       "True Lies (1994)                                                                  43159\n",
       "Aladdin (1992)                                                                    41849\n",
       "Speed (1994)                                                                      41562\n",
       "Back to the Future (1985)                                                         41426\n",
       "Godfather, The (1972)                                                             41355\n",
       "Fight Club (1999)                                                                 40106\n",
       "                                                                                  ...  \n",
       "First Texan, The (1956)                                                               1\n",
       "Headhunter's Sister, The (1997)                                                       1\n",
       "WWII IN HD (2009)                                                                     1\n",
       "Charlie Brown's Christmas Tales (2002)                                                1\n",
       "Little Thief, The (La petite voleuse) (1988)                                          1\n",
       "A Lesson Before Dying (1999)                                                          1\n",
       "Skies Above the Landscape (Nebo iznad krajolika) (2006)                               1\n",
       "People in Places (2013)                                                               1\n",
       "Kings of the Sun (1963)                                                               1\n",
       "North Star, The (1943)                                                                1\n",
       "Perfume (2001)                                                                        1\n",
       "What Have They Done to Your Daughters? (1974)                                         1\n",
       "Shades of Fern (Stín kapradiny) (1984)                                                1\n",
       "Bookies (2003)                                                                        1\n",
       "Homem Que Desafiou o Diabo, O (2007)                                                  1\n",
       "Too Late Blues (1961)                                                                 1\n",
       "Yes, But... (Oui, mais...) (2001)                                                     1\n",
       "Day and Night (Le jour et la nuit) (1997)                                             1\n",
       "Signs (2008)                                                                          1\n",
       "I Want to Look Like That Guy (2009)                                                   1\n",
       "1½ Knights - In Search of the Ravishing Princess Herzelinde (2008)                    1\n",
       "Mr. Kinky (1968)                                                                      1\n",
       "Vic+Flo Saw a Bear (2013)                                                             1\n",
       "Kolmistaan (2008)                                                                     1\n",
       "Zeder (1983)                                                                          1\n",
       "The Widow From Chicago (1930)                                                         1\n",
       "Three on a Weekend (1938)                                                             1\n",
       "Sun Kissed (2012)                                                                     1\n",
       "Bullet for Joey, A (1955)                                                             1\n",
       "Business as Usual (1988)                                                              1\n",
       "Name: title, Length: 26729, dtype: int64"
      ]
     },
     "execution_count": 72,
     "metadata": {},
     "output_type": "execute_result"
    }
   ],
   "source": [
    "movieRating['title'].value_counts() "
   ]
  },
  {
   "cell_type": "markdown",
   "metadata": {},
   "source": []
  },
  {
   "cell_type": "code",
   "execution_count": 73,
   "metadata": {},
   "outputs": [
    {
     "data": {
      "text/plain": [
       "Drama                                             1467402\n",
       "Comedy                                            1316161\n",
       "Comedy|Romance                                     793252\n",
       "Comedy|Drama                                       656474\n",
       "Drama|Romance                                      644626\n",
       "Comedy|Drama|Romance                               615897\n",
       "Crime|Drama                                        467417\n",
       "Action|Adventure|Sci-Fi                            441351\n",
       "Action|Adventure|Thriller                          313902\n",
       "Action|Crime|Thriller                              310685\n",
       "Drama|Thriller                                     292533\n",
       "Action|Adventure|Sci-Fi|Thriller                   291796\n",
       "Drama|War                                          239542\n",
       "Action|Sci-Fi|Thriller                             232931\n",
       "Crime|Drama|Thriller                               217121\n",
       "Comedy|Crime                                       217032\n",
       "Action|Drama|War                                   213007\n",
       "Action|Crime|Drama|Thriller                        195241\n",
       "Documentary                                        173848\n",
       "Thriller                                           152139\n",
       "Action|Thriller                                    140838\n",
       "Horror                                             135669\n",
       "Drama|Mystery|Thriller                             134291\n",
       "Horror|Thriller                                    131714\n",
       "Action|Sci-Fi                                      129585\n",
       "Children|Comedy                                    128382\n",
       "Mystery|Thriller                                   124167\n",
       "Comedy|Crime|Drama|Thriller                        123353\n",
       "Adventure|Animation|Children|Comedy|Fantasy        116359\n",
       "Adventure|Comedy|Sci-Fi                            115357\n",
       "                                                   ...   \n",
       "Adventure|Crime                                         1\n",
       "Sci-Fi|Western                                          1\n",
       "Action|Comedy|Crime|Drama|Romance                       1\n",
       "Animation|Comedy|Horror                                 1\n",
       "Action|Children|Comedy|Fantasy                          1\n",
       "Action|Adventure|Fantasy|Musical|Romance                1\n",
       "Action|Comedy|Crime|Fantasy|Thriller                    1\n",
       "Adventure|Crime|Drama|Fantasy|Mystery|Thriller          1\n",
       "Adventure|Horror|Sci-Fi|Thriller                        1\n",
       "Action|Adventure|Comedy|Crime|Drama|Thriller            1\n",
       "Children|Fantasy|Horror|Romance                         1\n",
       "Adventure|Children|Mystery                              1\n",
       "Adventure|Children|Drama|Western                        1\n",
       "Children|Drama|Thriller                                 1\n",
       "Action|Comedy|Crime|Romance|Thriller                    1\n",
       "Children|Documentary|Drama                              1\n",
       "Action|Animation|Children|Comedy|Fantasy                1\n",
       "Comedy|Drama|Horror|Romance                             1\n",
       "Animation|Comedy|Drama|Mystery                          1\n",
       "Action|Adventure|Crime|Mystery                          1\n",
       "Adventure|Children|Documentary|Drama                    1\n",
       "Comedy|Documentary|Horror                               1\n",
       "Animation|Children|Comedy|Western                       1\n",
       "Mystery|Thriller|War                                    1\n",
       "Children|Romance                                        1\n",
       "Drama|Film-Noir|Mystery|Romance|Sci-Fi                  1\n",
       "Adventure|Children|Comedy|Fantasy|Horror                1\n",
       "Adventure|Children|Comedy|Documentary|Drama             1\n",
       "Adventure|Animation|Drama|Sci-Fi                        1\n",
       "Comedy|Mystery|Romance|Western                          1\n",
       "Name: genres, Length: 1329, dtype: int64"
      ]
     },
     "execution_count": 73,
     "metadata": {},
     "output_type": "execute_result"
    }
   ],
   "source": [
    "movieRating['genres'].value_counts() "
   ]
  },
  {
   "cell_type": "code",
   "execution_count": 74,
   "metadata": {},
   "outputs": [
    {
     "name": "stdout",
     "output_type": "stream",
     "text": [
      "genres:\n",
      "Comedy|Mystery|Romance|Western                          1\n",
      "Adventure|Animation|Drama|Sci-Fi                        1\n",
      "Adventure|Children|Comedy|Documentary|Drama             1\n",
      "Adventure|Children|Comedy|Fantasy|Horror                1\n",
      "Drama|Film-Noir|Mystery|Romance|Sci-Fi                  1\n",
      "Children|Romance                                        1\n",
      "Mystery|Thriller|War                                    1\n",
      "Animation|Children|Comedy|Western                       1\n",
      "Comedy|Documentary|Horror                               1\n",
      "Adventure|Children|Documentary|Drama                    1\n",
      "Action|Adventure|Crime|Mystery                          1\n",
      "Animation|Comedy|Drama|Mystery                          1\n",
      "Comedy|Drama|Horror|Romance                             1\n",
      "Action|Animation|Children|Comedy|Fantasy                1\n",
      "Children|Documentary|Drama                              1\n",
      "Action|Comedy|Crime|Romance|Thriller                    1\n",
      "Children|Drama|Thriller                                 1\n",
      "Adventure|Children|Drama|Western                        1\n",
      "Adventure|Children|Mystery                              1\n",
      "Children|Fantasy|Horror|Romance                         1\n",
      "Action|Adventure|Comedy|Crime|Drama|Thriller            1\n",
      "Adventure|Horror|Sci-Fi|Thriller                        1\n",
      "Adventure|Crime|Drama|Fantasy|Mystery|Thriller          1\n",
      "Action|Comedy|Crime|Fantasy|Thriller                    1\n",
      "Action|Adventure|Fantasy|Musical|Romance                1\n",
      "Action|Children|Comedy|Fantasy                          1\n",
      "Animation|Comedy|Horror                                 1\n",
      "Action|Comedy|Crime|Drama|Romance                       1\n",
      "Sci-Fi|Western                                          1\n",
      "Adventure|Crime                                         1\n",
      "                                                   ...   \n",
      "Adventure|Comedy|Sci-Fi                            115357\n",
      "Adventure|Animation|Children|Comedy|Fantasy        116359\n",
      "Comedy|Crime|Drama|Thriller                        123353\n",
      "Mystery|Thriller                                   124167\n",
      "Children|Comedy                                    128382\n",
      "Action|Sci-Fi                                      129585\n",
      "Horror|Thriller                                    131714\n",
      "Drama|Mystery|Thriller                             134291\n",
      "Horror                                             135669\n",
      "Action|Thriller                                    140838\n",
      "Thriller                                           152139\n",
      "Documentary                                        173848\n",
      "Action|Crime|Drama|Thriller                        195241\n",
      "Action|Drama|War                                   213007\n",
      "Comedy|Crime                                       217032\n",
      "Crime|Drama|Thriller                               217121\n",
      "Action|Sci-Fi|Thriller                             232931\n",
      "Drama|War                                          239542\n",
      "Action|Adventure|Sci-Fi|Thriller                   291796\n",
      "Drama|Thriller                                     292533\n",
      "Action|Crime|Thriller                              310685\n",
      "Action|Adventure|Thriller                          313902\n",
      "Action|Adventure|Sci-Fi                            441351\n",
      "Crime|Drama                                        467417\n",
      "Comedy|Drama|Romance                               615897\n",
      "Drama|Romance                                      644626\n",
      "Comedy|Drama                                       656474\n",
      "Comedy|Romance                                     793252\n",
      "Comedy                                            1316161\n",
      "Drama                                             1467402\n",
      "Name: genres, Length: 1329, dtype: int64\n",
      "rating\n",
      "Empty DataFrame\n",
      "Columns: []\n",
      "Index: [(no genres listed), Action, Action|Adventure, Action|Adventure|Animation, Action|Adventure|Animation|Children, Action|Adventure|Animation|Children|Comedy, Action|Adventure|Animation|Children|Comedy|Fantasy, Action|Adventure|Animation|Children|Comedy|IMAX, Action|Adventure|Animation|Children|Comedy|Romance, Action|Adventure|Animation|Children|Comedy|Sci-Fi, Action|Adventure|Animation|Children|Comedy|Sci-Fi|IMAX, Action|Adventure|Animation|Children|Comedy|Western, Action|Adventure|Animation|Children|Fantasy, Action|Adventure|Animation|Children|Fantasy|Sci-Fi, Action|Adventure|Animation|Children|Sci-Fi, Action|Adventure|Animation|Comedy, Action|Adventure|Animation|Comedy|Crime|Mystery, Action|Adventure|Animation|Comedy|Drama|Fantasy|Romance, Action|Adventure|Animation|Comedy|Fantasy, Action|Adventure|Animation|Comedy|Fantasy|Mystery|Sci-Fi, Action|Adventure|Animation|Comedy|Fantasy|Sci-Fi, Action|Adventure|Animation|Comedy|Sci-Fi, Action|Adventure|Animation|Comedy|Thriller, Action|Adventure|Animation|Crime|Fantasy, Action|Adventure|Animation|Crime|Sci-Fi, Action|Adventure|Animation|Drama, Action|Adventure|Animation|Drama|Fantasy, Action|Adventure|Animation|Drama|Sci-Fi, Action|Adventure|Animation|Fantasy, Action|Adventure|Animation|Fantasy|Horror, Action|Adventure|Animation|Fantasy|IMAX, Action|Adventure|Animation|Fantasy|Sci-Fi, Action|Adventure|Animation|Horror, Action|Adventure|Animation|Horror|Sci-Fi, Action|Adventure|Animation|Mystery|Sci-Fi, Action|Adventure|Animation|Sci-Fi, Action|Adventure|Animation|Sci-Fi|Thriller, Action|Adventure|Children, Action|Adventure|Children|Comedy, Action|Adventure|Children|Comedy|Crime, Action|Adventure|Children|Comedy|Fantasy, Action|Adventure|Children|Comedy|Fantasy|Sci-Fi, Action|Adventure|Children|Comedy|Mystery, Action|Adventure|Children|Comedy|Sci-Fi, Action|Adventure|Children|Crime|Mystery|Thriller, Action|Adventure|Children|Drama, Action|Adventure|Children|Fantasy, Action|Adventure|Children|Fantasy|Mystery|Thriller, Action|Adventure|Children|IMAX, Action|Adventure|Comedy, Action|Adventure|Comedy|Crime, Action|Adventure|Comedy|Crime|Drama, Action|Adventure|Comedy|Crime|Drama|Film-Noir|Horror|Mystery|Thriller|Western, Action|Adventure|Comedy|Crime|Drama|Thriller, Action|Adventure|Comedy|Crime|Fantasy, Action|Adventure|Comedy|Crime|Mystery|Thriller, Action|Adventure|Comedy|Crime|Romance|Thriller, Action|Adventure|Comedy|Crime|Sci-Fi, Action|Adventure|Comedy|Crime|Thriller, Action|Adventure|Comedy|Crime|Thriller|War, Action|Adventure|Comedy|Documentary|Fantasy, Action|Adventure|Comedy|Drama, Action|Adventure|Comedy|Drama|Fantasy|Thriller, Action|Adventure|Comedy|Drama|Mystery|Romance|Thriller, Action|Adventure|Comedy|Drama|Romance, Action|Adventure|Comedy|Drama|Romance|Thriller, Action|Adventure|Comedy|Drama|Romance|War, Action|Adventure|Comedy|Drama|Thriller, Action|Adventure|Comedy|Drama|War, Action|Adventure|Comedy|Fantasy, Action|Adventure|Comedy|Fantasy|Horror, Action|Adventure|Comedy|Fantasy|Horror|Thriller, Action|Adventure|Comedy|Fantasy|Mystery, Action|Adventure|Comedy|Fantasy|Romance, Action|Adventure|Comedy|Fantasy|Sci-Fi, Action|Adventure|Comedy|Horror, Action|Adventure|Comedy|Musical|Romance|Thriller, Action|Adventure|Comedy|Romance, Action|Adventure|Comedy|Romance|Thriller, Action|Adventure|Comedy|Romance|War, Action|Adventure|Comedy|Sci-Fi, Action|Adventure|Comedy|Sci-Fi|IMAX, Action|Adventure|Comedy|Sci-Fi|Thriller, Action|Adventure|Comedy|Thriller, Action|Adventure|Comedy|War, Action|Adventure|Comedy|Western, Action|Adventure|Crime, Action|Adventure|Crime|Drama, Action|Adventure|Crime|Drama|Mystery|Thriller, Action|Adventure|Crime|Drama|Romance, Action|Adventure|Crime|Drama|Romance|Thriller, Action|Adventure|Crime|Drama|Sci-Fi, Action|Adventure|Crime|Drama|Sci-Fi|Thriller|War, Action|Adventure|Crime|Drama|Thriller, Action|Adventure|Crime|Drama|Thriller|War, Action|Adventure|Crime|Drama|Western, Action|Adventure|Crime|Fantasy, Action|Adventure|Crime|Horror|Thriller, Action|Adventure|Crime|IMAX, Action|Adventure|Crime|Mystery, ...]\n",
      "\n",
      "[1329 rows x 0 columns]\n"
     ]
    }
   ],
   "source": [
    "temp1 = movieRating['genres'].value_counts(ascending=True)\n",
    "temp2 = movieRating.pivot_table(values='rating',index=['genres'],aggfunc=lambda x: x.map({'Y':1,'N':0}).mean())\n",
    "print ('genres:') \n",
    "print (temp1)\n",
    "\n",
    "print ('rating')\n",
    "print (temp2)"
   ]
  },
  {
   "cell_type": "code",
   "execution_count": 75,
   "metadata": {},
   "outputs": [
    {
     "data": {
      "text/plain": [
       "(20000263, 7)"
      ]
     },
     "execution_count": 75,
     "metadata": {},
     "output_type": "execute_result"
    }
   ],
   "source": [
    "movieRating.shape\n"
   ]
  },
  {
   "cell_type": "code",
   "execution_count": 76,
   "metadata": {},
   "outputs": [
    {
     "data": {
      "text/plain": [
       "(27278, 3)"
      ]
     },
     "execution_count": 76,
     "metadata": {},
     "output_type": "execute_result"
    }
   ],
   "source": [
    "movieEx.shape"
   ]
  },
  {
   "cell_type": "code",
   "execution_count": 77,
   "metadata": {},
   "outputs": [
    {
     "data": {
      "text/plain": [
       "(20000263, 4)"
      ]
     },
     "execution_count": 77,
     "metadata": {},
     "output_type": "execute_result"
    }
   ],
   "source": [
    "ratings.shape"
   ]
  },
  {
   "cell_type": "code",
   "execution_count": 78,
   "metadata": {},
   "outputs": [
    {
     "data": {
      "text/plain": [
       "Int64Index([       0,        1,        2,        3,        4,        5,\n",
       "                   6,        7,        8,        9,\n",
       "            ...\n",
       "            20000253, 20000254, 20000255, 20000256, 20000257, 20000258,\n",
       "            20000259, 20000260, 20000261, 20000262],\n",
       "           dtype='int64', length=20000263)"
      ]
     },
     "execution_count": 78,
     "metadata": {},
     "output_type": "execute_result"
    }
   ],
   "source": [
    "movieRating.index"
   ]
  },
  {
   "cell_type": "code",
   "execution_count": 80,
   "metadata": {},
   "outputs": [
    {
     "data": {
      "text/plain": [
       "Index(['userId', 'movieId', 'rating', 'timestamp', 'title', 'genres', 'year'], dtype='object')"
      ]
     },
     "execution_count": 80,
     "metadata": {},
     "output_type": "execute_result"
    }
   ],
   "source": [
    "movieRating.columns"
   ]
  },
  {
   "cell_type": "code",
   "execution_count": 81,
   "metadata": {},
   "outputs": [],
   "source": [
    "del movieRating['timestamp']"
   ]
  },
  {
   "cell_type": "code",
   "execution_count": 82,
   "metadata": {},
   "outputs": [
    {
     "data": {
      "text/plain": [
       "Index(['userId', 'movieId', 'rating', 'title', 'genres', 'year'], dtype='object')"
      ]
     },
     "execution_count": 82,
     "metadata": {},
     "output_type": "execute_result"
    }
   ],
   "source": [
    "movieRating.columns"
   ]
  },
  {
   "cell_type": "code",
   "execution_count": 83,
   "metadata": {},
   "outputs": [
    {
     "data": {
      "text/plain": [
       "userId                              1\n",
       "movieId                             2\n",
       "rating                            3.5\n",
       "title                  Jumanji (1995)\n",
       "genres     Adventure|Children|Fantasy\n",
       "year                             1995\n",
       "Name: 0, dtype: object"
      ]
     },
     "execution_count": 83,
     "metadata": {},
     "output_type": "execute_result"
    }
   ],
   "source": [
    "movieRating.loc[0]"
   ]
  },
  {
   "cell_type": "code",
   "execution_count": 84,
   "metadata": {},
   "outputs": [
    {
     "data": {
      "text/plain": [
       "userId                              1\n",
       "movieId                             2\n",
       "rating                            3.5\n",
       "title                  Jumanji (1995)\n",
       "genres     Adventure|Children|Fantasy\n",
       "year                             1995\n",
       "Name: 0, dtype: object"
      ]
     },
     "execution_count": 84,
     "metadata": {},
     "output_type": "execute_result"
    }
   ],
   "source": [
    "movieRating.iloc[0]"
   ]
  },
  {
   "cell_type": "code",
   "execution_count": 87,
   "metadata": {},
   "outputs": [
    {
     "data": {
      "text/plain": [
       "title\n",
       "Pulp Fiction (1994)                                                               67310\n",
       "Forrest Gump (1994)                                                               66172\n",
       "Shawshank Redemption, The (1994)                                                  63366\n",
       "Silence of the Lambs, The (1991)                                                  63299\n",
       "Jurassic Park (1993)                                                              59715\n",
       "Star Wars: Episode IV - A New Hope (1977)                                         54502\n",
       "Braveheart (1995)                                                                 53769\n",
       "Terminator 2: Judgment Day (1991)                                                 52244\n",
       "Matrix, The (1999)                                                                51334\n",
       "Schindler's List (1993)                                                           50054\n",
       "Toy Story (1995)                                                                  49695\n",
       "Fugitive, The (1993)                                                              49581\n",
       "Apollo 13 (1995)                                                                  47777\n",
       "Independence Day (a.k.a. ID4) (1996)                                              47048\n",
       "Usual Suspects, The (1995)                                                        47006\n",
       "Star Wars: Episode VI - Return of the Jedi (1983)                                 46839\n",
       "Batman (1989)                                                                     46054\n",
       "Star Wars: Episode V - The Empire Strikes Back (1980)                             45313\n",
       "American Beauty (1999)                                                            44987\n",
       "Twelve Monkeys (a.k.a. 12 Monkeys) (1995)                                         44980\n",
       "Dances with Wolves (1990)                                                         44208\n",
       "Raiders of the Lost Ark (Indiana Jones and the Raiders of the Lost Ark) (1981)    43295\n",
       "Fargo (1996)                                                                      43272\n",
       "Seven (a.k.a. Se7en) (1995)                                                       43249\n",
       "True Lies (1994)                                                                  43159\n",
       "Aladdin (1992)                                                                    41849\n",
       "Speed (1994)                                                                      41562\n",
       "Back to the Future (1985)                                                         41426\n",
       "Godfather, The (1972)                                                             41355\n",
       "Fight Club (1999)                                                                 40106\n",
       "                                                                                  ...  \n",
       "Home Alone (1990)                                                                 28348\n",
       "Willy Wonka & the Chocolate Factory (1971)                                        28335\n",
       "Good Will Hunting (1997)                                                          28324\n",
       "Waterworld (1995)                                                                 27775\n",
       "Four Weddings and a Funeral (1994)                                                27699\n",
       "Fifth Element, The (1997)                                                         27660\n",
       "Reservoir Dogs (1992)                                                             27635\n",
       "Interview with the Vampire: The Vampire Chronicles (1994)                         27568\n",
       "Godfather: Part II, The (1974)                                                    27398\n",
       "Aliens (1986)                                                                     27206\n",
       "Being John Malkovich (1999)                                                       27160\n",
       "X-Men (2000)                                                                      26846\n",
       "L.A. Confidential (1997)                                                          26836\n",
       "Goodfellas (1990)                                                                 26406\n",
       "Star Trek: Generations (1994)                                                     26404\n",
       "Clueless (1995)                                                                   26254\n",
       "Outbreak (1995)                                                                   26246\n",
       "Léon: The Professional (a.k.a. The Professional) (Léon) (1994)                    25804\n",
       "Firm, The (1993)                                                                  25689\n",
       "Pirates of the Caribbean: The Curse of the Black Pearl (2003)                     25257\n",
       "2001: A Space Odyssey (1968)                                                      25253\n",
       "Crouching Tiger, Hidden Dragon (Wo hu cang long) (2000)                           25090\n",
       "Cliffhanger (1993)                                                                24940\n",
       "Clockwork Orange, A (1971)                                                        24694\n",
       "Austin Powers: The Spy Who Shagged Me (1999)                                      24651\n",
       "Net, The (1995)                                                                   24618\n",
       "Rain Man (1988)                                                                   24591\n",
       "There's Something About Mary (1998)                                               24582\n",
       "Shakespeare in Love (1998)                                                        24521\n",
       "Taxi Driver (1976)                                                                24481\n",
       "Length: 100, dtype: int64"
      ]
     },
     "execution_count": 87,
     "metadata": {},
     "output_type": "execute_result"
    }
   ],
   "source": [
    "most_rated = movieRating.groupby('title').size().sort_values(ascending=False)[:100] #What are the 100 most rated movies?\n",
    "most_rated"
   ]
  },
  {
   "cell_type": "code",
   "execution_count": 88,
   "metadata": {},
   "outputs": [
    {
     "data": {
      "text/html": [
       "<div>\n",
       "<style scoped>\n",
       "    .dataframe tbody tr th:only-of-type {\n",
       "        vertical-align: middle;\n",
       "    }\n",
       "\n",
       "    .dataframe tbody tr th {\n",
       "        vertical-align: top;\n",
       "    }\n",
       "\n",
       "    .dataframe thead tr th {\n",
       "        text-align: left;\n",
       "    }\n",
       "\n",
       "    .dataframe thead tr:last-of-type th {\n",
       "        text-align: right;\n",
       "    }\n",
       "</style>\n",
       "<table border=\"1\" class=\"dataframe\">\n",
       "  <thead>\n",
       "    <tr>\n",
       "      <th></th>\n",
       "      <th colspan=\"2\" halign=\"left\">rating</th>\n",
       "    </tr>\n",
       "    <tr>\n",
       "      <th></th>\n",
       "      <th>size</th>\n",
       "      <th>mean</th>\n",
       "    </tr>\n",
       "    <tr>\n",
       "      <th>title</th>\n",
       "      <th></th>\n",
       "      <th></th>\n",
       "    </tr>\n",
       "  </thead>\n",
       "  <tbody>\n",
       "    <tr>\n",
       "      <th>\"Great Performances\" Cats (1998)</th>\n",
       "      <td>155.0</td>\n",
       "      <td>2.748387</td>\n",
       "    </tr>\n",
       "    <tr>\n",
       "      <th>#chicagoGirl: The Social Network Takes on a Dictator (2013)</th>\n",
       "      <td>3.0</td>\n",
       "      <td>3.666667</td>\n",
       "    </tr>\n",
       "    <tr>\n",
       "      <th>$ (Dollars) (1971)</th>\n",
       "      <td>24.0</td>\n",
       "      <td>2.833333</td>\n",
       "    </tr>\n",
       "    <tr>\n",
       "      <th>$5 a Day (2008)</th>\n",
       "      <td>39.0</td>\n",
       "      <td>2.871795</td>\n",
       "    </tr>\n",
       "    <tr>\n",
       "      <th>$9.99 (2008)</th>\n",
       "      <td>55.0</td>\n",
       "      <td>3.009091</td>\n",
       "    </tr>\n",
       "  </tbody>\n",
       "</table>\n",
       "</div>"
      ],
      "text/plain": [
       "                                                   rating          \n",
       "                                                     size      mean\n",
       "title                                                              \n",
       "\"Great Performances\" Cats (1998)                    155.0  2.748387\n",
       "#chicagoGirl: The Social Network Takes on a Dic...    3.0  3.666667\n",
       "$ (Dollars) (1971)                                   24.0  2.833333\n",
       "$5 a Day (2008)                                      39.0  2.871795\n",
       "$9.99 (2008)                                         55.0  3.009091"
      ]
     },
     "execution_count": 88,
     "metadata": {},
     "output_type": "execute_result"
    }
   ],
   "source": [
    "movie_stats = movieRating.groupby('title').agg({'rating': [np.size, np.mean]})\n",
    "movie_stats.head()"
   ]
  },
  {
   "cell_type": "code",
   "execution_count": 91,
   "metadata": {},
   "outputs": [
    {
     "data": {
      "text/html": [
       "<div>\n",
       "<style scoped>\n",
       "    .dataframe tbody tr th:only-of-type {\n",
       "        vertical-align: middle;\n",
       "    }\n",
       "\n",
       "    .dataframe tbody tr th {\n",
       "        vertical-align: top;\n",
       "    }\n",
       "\n",
       "    .dataframe thead tr th {\n",
       "        text-align: left;\n",
       "    }\n",
       "\n",
       "    .dataframe thead tr:last-of-type th {\n",
       "        text-align: right;\n",
       "    }\n",
       "</style>\n",
       "<table border=\"1\" class=\"dataframe\">\n",
       "  <thead>\n",
       "    <tr>\n",
       "      <th></th>\n",
       "      <th colspan=\"2\" halign=\"left\">rating</th>\n",
       "    </tr>\n",
       "    <tr>\n",
       "      <th></th>\n",
       "      <th>size</th>\n",
       "      <th>mean</th>\n",
       "    </tr>\n",
       "    <tr>\n",
       "      <th>title</th>\n",
       "      <th></th>\n",
       "      <th></th>\n",
       "    </tr>\n",
       "  </thead>\n",
       "  <tbody>\n",
       "    <tr>\n",
       "      <th>Shawshank Redemption, The (1994)</th>\n",
       "      <td>63366.0</td>\n",
       "      <td>4.446990</td>\n",
       "    </tr>\n",
       "    <tr>\n",
       "      <th>Godfather, The (1972)</th>\n",
       "      <td>41355.0</td>\n",
       "      <td>4.364732</td>\n",
       "    </tr>\n",
       "    <tr>\n",
       "      <th>Usual Suspects, The (1995)</th>\n",
       "      <td>47006.0</td>\n",
       "      <td>4.334372</td>\n",
       "    </tr>\n",
       "    <tr>\n",
       "      <th>Schindler's List (1993)</th>\n",
       "      <td>50054.0</td>\n",
       "      <td>4.310175</td>\n",
       "    </tr>\n",
       "    <tr>\n",
       "      <th>Fight Club (1999)</th>\n",
       "      <td>40106.0</td>\n",
       "      <td>4.227123</td>\n",
       "    </tr>\n",
       "    <tr>\n",
       "      <th>Raiders of the Lost Ark (Indiana Jones and the Raiders of the Lost Ark) (1981)</th>\n",
       "      <td>43295.0</td>\n",
       "      <td>4.219009</td>\n",
       "    </tr>\n",
       "    <tr>\n",
       "      <th>Star Wars: Episode IV - A New Hope (1977)</th>\n",
       "      <td>54502.0</td>\n",
       "      <td>4.190672</td>\n",
       "    </tr>\n",
       "    <tr>\n",
       "      <th>Star Wars: Episode V - The Empire Strikes Back (1980)</th>\n",
       "      <td>45313.0</td>\n",
       "      <td>4.188202</td>\n",
       "    </tr>\n",
       "    <tr>\n",
       "      <th>Matrix, The (1999)</th>\n",
       "      <td>51334.0</td>\n",
       "      <td>4.187186</td>\n",
       "    </tr>\n",
       "    <tr>\n",
       "      <th>Memento (2000)</th>\n",
       "      <td>30443.0</td>\n",
       "      <td>4.178547</td>\n",
       "    </tr>\n",
       "    <tr>\n",
       "      <th>Silence of the Lambs, The (1991)</th>\n",
       "      <td>63299.0</td>\n",
       "      <td>4.177057</td>\n",
       "    </tr>\n",
       "    <tr>\n",
       "      <th>Princess Bride, The (1987)</th>\n",
       "      <td>32586.0</td>\n",
       "      <td>4.176732</td>\n",
       "    </tr>\n",
       "    <tr>\n",
       "      <th>Pulp Fiction (1994)</th>\n",
       "      <td>67310.0</td>\n",
       "      <td>4.174231</td>\n",
       "    </tr>\n",
       "    <tr>\n",
       "      <th>Monty Python and the Holy Grail (1975)</th>\n",
       "      <td>33024.0</td>\n",
       "      <td>4.174146</td>\n",
       "    </tr>\n",
       "    <tr>\n",
       "      <th>American Beauty (1999)</th>\n",
       "      <td>44987.0</td>\n",
       "      <td>4.155934</td>\n",
       "    </tr>\n",
       "    <tr>\n",
       "      <th>Lord of the Rings: The Return of the King, The (2003)</th>\n",
       "      <td>31577.0</td>\n",
       "      <td>4.142382</td>\n",
       "    </tr>\n",
       "    <tr>\n",
       "      <th>Lord of the Rings: The Fellowship of the Ring, The (2001)</th>\n",
       "      <td>37553.0</td>\n",
       "      <td>4.137925</td>\n",
       "    </tr>\n",
       "    <tr>\n",
       "      <th>Blade Runner (1982)</th>\n",
       "      <td>30526.0</td>\n",
       "      <td>4.133706</td>\n",
       "    </tr>\n",
       "    <tr>\n",
       "      <th>Fargo (1996)</th>\n",
       "      <td>43272.0</td>\n",
       "      <td>4.112359</td>\n",
       "    </tr>\n",
       "    <tr>\n",
       "      <th>Lord of the Rings: The Two Towers, The (2002)</th>\n",
       "      <td>33947.0</td>\n",
       "      <td>4.107521</td>\n",
       "    </tr>\n",
       "    <tr>\n",
       "      <th>Saving Private Ryan (1998)</th>\n",
       "      <td>37110.0</td>\n",
       "      <td>4.064417</td>\n",
       "    </tr>\n",
       "    <tr>\n",
       "      <th>Sixth Sense, The (1999)</th>\n",
       "      <td>39028.0</td>\n",
       "      <td>4.054999</td>\n",
       "    </tr>\n",
       "    <tr>\n",
       "      <th>Seven (a.k.a. Se7en) (1995)</th>\n",
       "      <td>43249.0</td>\n",
       "      <td>4.053493</td>\n",
       "    </tr>\n",
       "    <tr>\n",
       "      <th>Braveheart (1995)</th>\n",
       "      <td>53769.0</td>\n",
       "      <td>4.042534</td>\n",
       "    </tr>\n",
       "    <tr>\n",
       "      <th>Alien (1979)</th>\n",
       "      <td>30933.0</td>\n",
       "      <td>4.041784</td>\n",
       "    </tr>\n",
       "    <tr>\n",
       "      <th>Forrest Gump (1994)</th>\n",
       "      <td>66172.0</td>\n",
       "      <td>4.029000</td>\n",
       "    </tr>\n",
       "    <tr>\n",
       "      <th>Indiana Jones and the Last Crusade (1989)</th>\n",
       "      <td>31280.0</td>\n",
       "      <td>4.007593</td>\n",
       "    </tr>\n",
       "    <tr>\n",
       "      <th>Star Wars: Episode VI - Return of the Jedi (1983)</th>\n",
       "      <td>46839.0</td>\n",
       "      <td>4.004622</td>\n",
       "    </tr>\n",
       "    <tr>\n",
       "      <th>Fugitive, The (1993)</th>\n",
       "      <td>49581.0</td>\n",
       "      <td>3.985690</td>\n",
       "    </tr>\n",
       "    <tr>\n",
       "      <th>Gladiator (2000)</th>\n",
       "      <td>32878.0</td>\n",
       "      <td>3.952248</td>\n",
       "    </tr>\n",
       "    <tr>\n",
       "      <th>...</th>\n",
       "      <td>...</td>\n",
       "      <td>...</td>\n",
       "    </tr>\n",
       "    <tr>\n",
       "      <th>Toy Story (1995)</th>\n",
       "      <td>49695.0</td>\n",
       "      <td>3.921240</td>\n",
       "    </tr>\n",
       "    <tr>\n",
       "      <th>Twelve Monkeys (a.k.a. 12 Monkeys) (1995)</th>\n",
       "      <td>44980.0</td>\n",
       "      <td>3.898055</td>\n",
       "    </tr>\n",
       "    <tr>\n",
       "      <th>Terminator, The (1984)</th>\n",
       "      <td>33429.0</td>\n",
       "      <td>3.896392</td>\n",
       "    </tr>\n",
       "    <tr>\n",
       "      <th>Apollo 13 (1995)</th>\n",
       "      <td>47777.0</td>\n",
       "      <td>3.868598</td>\n",
       "    </tr>\n",
       "    <tr>\n",
       "      <th>Groundhog Day (1993)</th>\n",
       "      <td>32026.0</td>\n",
       "      <td>3.867623</td>\n",
       "    </tr>\n",
       "    <tr>\n",
       "      <th>Shrek (2001)</th>\n",
       "      <td>31972.0</td>\n",
       "      <td>3.843613</td>\n",
       "    </tr>\n",
       "    <tr>\n",
       "      <th>Lion King, The (1994)</th>\n",
       "      <td>38991.0</td>\n",
       "      <td>3.779090</td>\n",
       "    </tr>\n",
       "    <tr>\n",
       "      <th>E.T. the Extra-Terrestrial (1982)</th>\n",
       "      <td>32685.0</td>\n",
       "      <td>3.754918</td>\n",
       "    </tr>\n",
       "    <tr>\n",
       "      <th>Dances with Wolves (1990)</th>\n",
       "      <td>44208.0</td>\n",
       "      <td>3.728465</td>\n",
       "    </tr>\n",
       "    <tr>\n",
       "      <th>Aladdin (1992)</th>\n",
       "      <td>41849.0</td>\n",
       "      <td>3.680829</td>\n",
       "    </tr>\n",
       "    <tr>\n",
       "      <th>Rock, The (1996)</th>\n",
       "      <td>31353.0</td>\n",
       "      <td>3.679536</td>\n",
       "    </tr>\n",
       "    <tr>\n",
       "      <th>Beauty and the Beast (1991)</th>\n",
       "      <td>35138.0</td>\n",
       "      <td>3.673302</td>\n",
       "    </tr>\n",
       "    <tr>\n",
       "      <th>Jurassic Park (1993)</th>\n",
       "      <td>59715.0</td>\n",
       "      <td>3.664741</td>\n",
       "    </tr>\n",
       "    <tr>\n",
       "      <th>Babe (1995)</th>\n",
       "      <td>32255.0</td>\n",
       "      <td>3.643094</td>\n",
       "    </tr>\n",
       "    <tr>\n",
       "      <th>Men in Black (a.k.a. MIB) (1997)</th>\n",
       "      <td>35580.0</td>\n",
       "      <td>3.558319</td>\n",
       "    </tr>\n",
       "    <tr>\n",
       "      <th>Speed (1994)</th>\n",
       "      <td>41562.0</td>\n",
       "      <td>3.493203</td>\n",
       "    </tr>\n",
       "    <tr>\n",
       "      <th>True Lies (1994)</th>\n",
       "      <td>43159.0</td>\n",
       "      <td>3.491149</td>\n",
       "    </tr>\n",
       "    <tr>\n",
       "      <th>Die Hard: With a Vengeance (1995)</th>\n",
       "      <td>33940.0</td>\n",
       "      <td>3.489025</td>\n",
       "    </tr>\n",
       "    <tr>\n",
       "      <th>Pretty Woman (1990)</th>\n",
       "      <td>33900.0</td>\n",
       "      <td>3.420428</td>\n",
       "    </tr>\n",
       "    <tr>\n",
       "      <th>Batman (1989)</th>\n",
       "      <td>46054.0</td>\n",
       "      <td>3.402365</td>\n",
       "    </tr>\n",
       "    <tr>\n",
       "      <th>Mission: Impossible (1996)</th>\n",
       "      <td>37127.0</td>\n",
       "      <td>3.388599</td>\n",
       "    </tr>\n",
       "    <tr>\n",
       "      <th>Mrs. Doubtfire (1993)</th>\n",
       "      <td>34392.0</td>\n",
       "      <td>3.386267</td>\n",
       "    </tr>\n",
       "    <tr>\n",
       "      <th>Independence Day (a.k.a. ID4) (1996)</th>\n",
       "      <td>47048.0</td>\n",
       "      <td>3.370962</td>\n",
       "    </tr>\n",
       "    <tr>\n",
       "      <th>Stargate (1994)</th>\n",
       "      <td>31799.0</td>\n",
       "      <td>3.354225</td>\n",
       "    </tr>\n",
       "    <tr>\n",
       "      <th>Titanic (1997)</th>\n",
       "      <td>32238.0</td>\n",
       "      <td>3.338188</td>\n",
       "    </tr>\n",
       "    <tr>\n",
       "      <th>Twister (1996)</th>\n",
       "      <td>32446.0</td>\n",
       "      <td>3.196249</td>\n",
       "    </tr>\n",
       "    <tr>\n",
       "      <th>Mask, The (1994)</th>\n",
       "      <td>34384.0</td>\n",
       "      <td>3.174718</td>\n",
       "    </tr>\n",
       "    <tr>\n",
       "      <th>Ace Ventura: Pet Detective (1994)</th>\n",
       "      <td>38226.0</td>\n",
       "      <td>2.982342</td>\n",
       "    </tr>\n",
       "    <tr>\n",
       "      <th>Dumb &amp; Dumber (Dumb and Dumber) (1994)</th>\n",
       "      <td>32085.0</td>\n",
       "      <td>2.952470</td>\n",
       "    </tr>\n",
       "    <tr>\n",
       "      <th>Batman Forever (1995)</th>\n",
       "      <td>32867.0</td>\n",
       "      <td>2.894727</td>\n",
       "    </tr>\n",
       "  </tbody>\n",
       "</table>\n",
       "<p>63 rows × 2 columns</p>\n",
       "</div>"
      ],
      "text/plain": [
       "                                                     rating          \n",
       "                                                       size      mean\n",
       "title                                                                \n",
       "Shawshank Redemption, The (1994)                    63366.0  4.446990\n",
       "Godfather, The (1972)                               41355.0  4.364732\n",
       "Usual Suspects, The (1995)                          47006.0  4.334372\n",
       "Schindler's List (1993)                             50054.0  4.310175\n",
       "Fight Club (1999)                                   40106.0  4.227123\n",
       "Raiders of the Lost Ark (Indiana Jones and the ...  43295.0  4.219009\n",
       "Star Wars: Episode IV - A New Hope (1977)           54502.0  4.190672\n",
       "Star Wars: Episode V - The Empire Strikes Back ...  45313.0  4.188202\n",
       "Matrix, The (1999)                                  51334.0  4.187186\n",
       "Memento (2000)                                      30443.0  4.178547\n",
       "Silence of the Lambs, The (1991)                    63299.0  4.177057\n",
       "Princess Bride, The (1987)                          32586.0  4.176732\n",
       "Pulp Fiction (1994)                                 67310.0  4.174231\n",
       "Monty Python and the Holy Grail (1975)              33024.0  4.174146\n",
       "American Beauty (1999)                              44987.0  4.155934\n",
       "Lord of the Rings: The Return of the King, The ...  31577.0  4.142382\n",
       "Lord of the Rings: The Fellowship of the Ring, ...  37553.0  4.137925\n",
       "Blade Runner (1982)                                 30526.0  4.133706\n",
       "Fargo (1996)                                        43272.0  4.112359\n",
       "Lord of the Rings: The Two Towers, The (2002)       33947.0  4.107521\n",
       "Saving Private Ryan (1998)                          37110.0  4.064417\n",
       "Sixth Sense, The (1999)                             39028.0  4.054999\n",
       "Seven (a.k.a. Se7en) (1995)                         43249.0  4.053493\n",
       "Braveheart (1995)                                   53769.0  4.042534\n",
       "Alien (1979)                                        30933.0  4.041784\n",
       "Forrest Gump (1994)                                 66172.0  4.029000\n",
       "Indiana Jones and the Last Crusade (1989)           31280.0  4.007593\n",
       "Star Wars: Episode VI - Return of the Jedi (1983)   46839.0  4.004622\n",
       "Fugitive, The (1993)                                49581.0  3.985690\n",
       "Gladiator (2000)                                    32878.0  3.952248\n",
       "...                                                     ...       ...\n",
       "Toy Story (1995)                                    49695.0  3.921240\n",
       "Twelve Monkeys (a.k.a. 12 Monkeys) (1995)           44980.0  3.898055\n",
       "Terminator, The (1984)                              33429.0  3.896392\n",
       "Apollo 13 (1995)                                    47777.0  3.868598\n",
       "Groundhog Day (1993)                                32026.0  3.867623\n",
       "Shrek (2001)                                        31972.0  3.843613\n",
       "Lion King, The (1994)                               38991.0  3.779090\n",
       "E.T. the Extra-Terrestrial (1982)                   32685.0  3.754918\n",
       "Dances with Wolves (1990)                           44208.0  3.728465\n",
       "Aladdin (1992)                                      41849.0  3.680829\n",
       "Rock, The (1996)                                    31353.0  3.679536\n",
       "Beauty and the Beast (1991)                         35138.0  3.673302\n",
       "Jurassic Park (1993)                                59715.0  3.664741\n",
       "Babe (1995)                                         32255.0  3.643094\n",
       "Men in Black (a.k.a. MIB) (1997)                    35580.0  3.558319\n",
       "Speed (1994)                                        41562.0  3.493203\n",
       "True Lies (1994)                                    43159.0  3.491149\n",
       "Die Hard: With a Vengeance (1995)                   33940.0  3.489025\n",
       "Pretty Woman (1990)                                 33900.0  3.420428\n",
       "Batman (1989)                                       46054.0  3.402365\n",
       "Mission: Impossible (1996)                          37127.0  3.388599\n",
       "Mrs. Doubtfire (1993)                               34392.0  3.386267\n",
       "Independence Day (a.k.a. ID4) (1996)                47048.0  3.370962\n",
       "Stargate (1994)                                     31799.0  3.354225\n",
       "Titanic (1997)                                      32238.0  3.338188\n",
       "Twister (1996)                                      32446.0  3.196249\n",
       "Mask, The (1994)                                    34384.0  3.174718\n",
       "Ace Ventura: Pet Detective (1994)                   38226.0  2.982342\n",
       "Dumb & Dumber (Dumb and Dumber) (1994)              32085.0  2.952470\n",
       "Batman Forever (1995)                               32867.0  2.894727\n",
       "\n",
       "[63 rows x 2 columns]"
      ]
     },
     "execution_count": 91,
     "metadata": {},
     "output_type": "execute_result"
    }
   ],
   "source": [
    "atleast_30000 = movie_stats['rating']['size'] >= 30000\n",
    "movie_stats[atleast_30000].sort_values([('rating', 'mean')], ascending=False)[:100]"
   ]
  },
  {
   "cell_type": "code",
   "execution_count": null,
   "metadata": {},
   "outputs": [],
   "source": []
  }
 ],
 "metadata": {
  "kernelspec": {
   "display_name": "Python 3",
   "language": "python",
   "name": "python3"
  },
  "language_info": {
   "codemirror_mode": {
    "name": "ipython",
    "version": 3
   },
   "file_extension": ".py",
   "mimetype": "text/x-python",
   "name": "python",
   "nbconvert_exporter": "python",
   "pygments_lexer": "ipython3",
   "version": "3.6.5"
  }
 },
 "nbformat": 4,
 "nbformat_minor": 2
}
